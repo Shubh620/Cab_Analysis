{
 "cells": [
  {
   "cell_type": "code",
   "execution_count": 1,
   "metadata": {},
   "outputs": [],
   "source": [
    "import pandas as pd\n",
    "import numpy as np\n",
    "from dateutil import parser\n",
    "from datetime import datetime\n",
    "import matplotlib.pyplot as plt\n",
    "import seaborn as sns\n",
    "from geopy.geocoders import Nominatim\n",
    "from sklearn.model_selection import train_test_split\n",
    "from sklearn.preprocessing import LabelEncoder, OneHotEncoder\n",
    "\n",
    "\n",
    "from sklearn.linear_model import LogisticRegression\n",
    "from sklearn.svm import LinearSVC,SVC\n",
    "from sklearn.neighbors import KNeighborsClassifier\n",
    "from sklearn.ensemble import RandomForestClassifier,GradientBoostingClassifier\n",
    "from sklearn.tree import DecisionTreeClassifier\n",
    "from sklearn.naive_bayes import GaussianNB\n",
    "\n",
    "#regression\n",
    "from sklearn.linear_model import LinearRegression,Ridge,Lasso,RidgeCV\n",
    "from sklearn.ensemble import RandomForestRegressor,BaggingRegressor,GradientBoostingRegressor,AdaBoostRegressor\n",
    "from sklearn.svm import SVR\n",
    "from sklearn.neighbors import KNeighborsRegressor\n",
    "\n",
    "#model selection\n",
    "from sklearn.model_selection import train_test_split,cross_validate\n",
    "from sklearn.model_selection import KFold\n",
    "from sklearn.model_selection import GridSearchCV\n",
    "\n",
    "#evaluation metrics\n",
    "from sklearn.metrics import mean_squared_log_error,mean_squared_error, r2_score,mean_absolute_error # for regression\n",
    "from sklearn.metrics import accuracy_score,precision_score,recall_score,f1_score  # for classification\n"
   ]
  },
  {
   "cell_type": "code",
   "execution_count": null,
   "metadata": {},
   "outputs": [],
   "source": []
  },
  {
   "cell_type": "code",
   "execution_count": 2,
   "metadata": {},
   "outputs": [],
   "source": [
    "df_uber_april  = pd.read_csv('/Users/shubh/Downloads/trips/uber-raw-data-apr14.csv')  \n",
    "df_uber_may = pd.read_csv('/Users/shubh/Downloads/trips/uber-raw-data-may14.csv')\n",
    "df_uber_june =pd.read_csv('/Users/shubh/Downloads/trips/uber-raw-data-jun14.csv')\n",
    "df_uber_july = pd.read_csv('/Users/shubh/Downloads/trips/uber-raw-data-jul14.csv')\n",
    "df_uber_aug = pd.read_csv('/Users/shubh/Downloads/trips/uber-raw-data-aug14.csv')\n",
    "df_uber_sept = pd.read_csv('/Users/shubh/Downloads/trips/uber-raw-data-sep14.csv')\n",
    "\n",
    "df_uber_jan_feb = pd.read_csv('/Users/shubh/Downloads/trips/Uber-Jan-Feb-FOIL.csv')\n",
    "df_uber_jan_june = pd.read_csv('/Users/shubh/Downloads/trips/uber-raw-data-janjune-15.csv')\n",
    "\n",
    "\n",
    "df_skyline = pd.read_csv('/Users/shubh/Downloads/trips/other-Skyline_B00111.csv')\n",
    "df_prestige = pd.read_csv('/Users/shubh/Downloads/trips/other-Prestige_B01338.csv', encoding ='latin1')\n",
    "df_lyft = pd.read_csv('/Users/shubh/Downloads/trips/other-Lyft_B02510.csv')\n",
    "df_high_class = pd.read_csv('/Users/shubh/Downloads/trips/other-Highclass_B01717.csv', encoding ='latin1')\n",
    "df_first_class = pd.read_csv('/Users/shubh/Downloads/trips/other-Firstclass_B01536.csv', encoding ='latin1')\n",
    "df_federal = pd.read_csv('/Users/shubh/Downloads/trips/other-Federal_02216.csv')\n",
    "df_fhv = pd.read_csv('/Users/shubh/Downloads/trips/other-FHV-services_jan-aug-2015.csv', encoding ='latin1')\n",
    "df_diplo = pd.read_csv('/Users/shubh/Downloads/trips/other-Diplo_B01196.csv', encoding ='latin1')\n",
    "df_dial = pd.read_csv('/Users/shubh/Downloads/trips/other-Dial7_B00887.csv', encoding ='latin1')\n",
    "df_carmel = pd.read_csv('/Users/shubh/Downloads/trips/other-Carmel_B00256.csv', encoding ='latin1')\n",
    "df_american = pd.read_csv('/Users/shubh/Downloads/trips/other-American_B01362.csv', encoding ='latin1')\n",
    "\n"
   ]
  },
  {
   "cell_type": "code",
   "execution_count": null,
   "metadata": {},
   "outputs": [],
   "source": []
  },
  {
   "cell_type": "markdown",
   "metadata": {},
   "source": [
    "# Structuring Data"
   ]
  },
  {
   "cell_type": "code",
   "execution_count": 3,
   "metadata": {},
   "outputs": [],
   "source": [
    "df_uber_april['Date/Time'] = pd.to_datetime(df_uber_april['Date/Time'], format=\"%m/%d/%Y %H:%M:%S\" )\n",
    "df_uber_may['Date/Time'] = pd.to_datetime(df_uber_may['Date/Time'], format=\"%m/%d/%Y %H:%M:%S\" )\n",
    "df_uber_june['Date/Time'] = pd.to_datetime(df_uber_june['Date/Time'], format=\"%m/%d/%Y %H:%M:%S\" )\n",
    "df_uber_july['Date/Time'] = pd.to_datetime(df_uber_july['Date/Time'], format=\"%m/%d/%Y %H:%M:%S\" )\n",
    "df_uber_aug['Date/Time'] = pd.to_datetime(df_uber_aug['Date/Time'], format=\"%m/%d/%Y %H:%M:%S\" )\n",
    "df_uber_sept['Date/Time'] = pd.to_datetime(df_uber_sept['Date/Time'], format=\"%m/%d/%Y %H:%M:%S\" )"
   ]
  },
  {
   "cell_type": "code",
   "execution_count": 4,
   "metadata": {},
   "outputs": [],
   "source": [
    "df_uber_2014 = pd.concat([df_uber_april, df_uber_may, df_uber_june, df_uber_july, df_uber_aug, df_uber_sept], ignore_index=True)\n",
    "df_uber_2014['Company'] = \"Uber\""
   ]
  },
  {
   "cell_type": "code",
   "execution_count": 5,
   "metadata": {},
   "outputs": [
    {
     "data": {
      "text/html": [
       "<div>\n",
       "<style scoped>\n",
       "    .dataframe tbody tr th:only-of-type {\n",
       "        vertical-align: middle;\n",
       "    }\n",
       "\n",
       "    .dataframe tbody tr th {\n",
       "        vertical-align: top;\n",
       "    }\n",
       "\n",
       "    .dataframe thead th {\n",
       "        text-align: right;\n",
       "    }\n",
       "</style>\n",
       "<table border=\"1\" class=\"dataframe\">\n",
       "  <thead>\n",
       "    <tr style=\"text-align: right;\">\n",
       "      <th></th>\n",
       "      <th>Date/Time</th>\n",
       "      <th>Lat</th>\n",
       "      <th>Lon</th>\n",
       "      <th>Base</th>\n",
       "      <th>Company</th>\n",
       "    </tr>\n",
       "  </thead>\n",
       "  <tbody>\n",
       "    <tr>\n",
       "      <th>0</th>\n",
       "      <td>2014-04-01 00:11:00</td>\n",
       "      <td>40.7690</td>\n",
       "      <td>-73.9549</td>\n",
       "      <td>B02512</td>\n",
       "      <td>Uber</td>\n",
       "    </tr>\n",
       "    <tr>\n",
       "      <th>1</th>\n",
       "      <td>2014-04-01 00:17:00</td>\n",
       "      <td>40.7267</td>\n",
       "      <td>-74.0345</td>\n",
       "      <td>B02512</td>\n",
       "      <td>Uber</td>\n",
       "    </tr>\n",
       "    <tr>\n",
       "      <th>2</th>\n",
       "      <td>2014-04-01 00:21:00</td>\n",
       "      <td>40.7316</td>\n",
       "      <td>-73.9873</td>\n",
       "      <td>B02512</td>\n",
       "      <td>Uber</td>\n",
       "    </tr>\n",
       "    <tr>\n",
       "      <th>3</th>\n",
       "      <td>2014-04-01 00:28:00</td>\n",
       "      <td>40.7588</td>\n",
       "      <td>-73.9776</td>\n",
       "      <td>B02512</td>\n",
       "      <td>Uber</td>\n",
       "    </tr>\n",
       "    <tr>\n",
       "      <th>4</th>\n",
       "      <td>2014-04-01 00:33:00</td>\n",
       "      <td>40.7594</td>\n",
       "      <td>-73.9722</td>\n",
       "      <td>B02512</td>\n",
       "      <td>Uber</td>\n",
       "    </tr>\n",
       "  </tbody>\n",
       "</table>\n",
       "</div>"
      ],
      "text/plain": [
       "            Date/Time      Lat      Lon    Base Company\n",
       "0 2014-04-01 00:11:00  40.7690 -73.9549  B02512    Uber\n",
       "1 2014-04-01 00:17:00  40.7267 -74.0345  B02512    Uber\n",
       "2 2014-04-01 00:21:00  40.7316 -73.9873  B02512    Uber\n",
       "3 2014-04-01 00:28:00  40.7588 -73.9776  B02512    Uber\n",
       "4 2014-04-01 00:33:00  40.7594 -73.9722  B02512    Uber"
      ]
     },
     "execution_count": 5,
     "metadata": {},
     "output_type": "execute_result"
    }
   ],
   "source": [
    "df_uber_2014.head()"
   ]
  },
  {
   "cell_type": "code",
   "execution_count": null,
   "metadata": {},
   "outputs": [],
   "source": []
  },
  {
   "cell_type": "code",
   "execution_count": 6,
   "metadata": {},
   "outputs": [],
   "source": [
    "df_skyline.rename(columns={'Date': 'Date/Time'}, inplace=True)\n",
    "df_prestige.rename(columns={'DATE': 'Date/Time'}, inplace=True)\n",
    "df_lyft.rename(columns={'time_of_trip': 'Date/Time'}, inplace=True)\n",
    "df_high_class.rename(columns={'DATE': 'Date/Time'}, inplace=True)\n",
    "df_first_class.rename(columns={'DATE': 'Date/Time'}, inplace=True)\n",
    "df_federal.rename(columns={'Date': 'Date/Time'}, inplace=True)\n",
    "df_fhv.rename(columns={'Pick Up Date': 'Date/Time'}, inplace=True)\n",
    "df_diplo.rename(columns={'Date': 'Date/Time'}, inplace=True)\n",
    "df_dial.rename(columns={'Date': 'Date/Time'}, inplace=True)\n",
    "df_carmel.rename(columns={'Date': 'Date/Time'}, inplace=True)\n",
    "df_american.rename(columns={'DATE': 'Date/Time'}, inplace=True)"
   ]
  },
  {
   "cell_type": "code",
   "execution_count": null,
   "metadata": {},
   "outputs": [],
   "source": []
  },
  {
   "cell_type": "code",
   "execution_count": 7,
   "metadata": {},
   "outputs": [
    {
     "data": {
      "text/html": [
       "<div>\n",
       "<style scoped>\n",
       "    .dataframe tbody tr th:only-of-type {\n",
       "        vertical-align: middle;\n",
       "    }\n",
       "\n",
       "    .dataframe tbody tr th {\n",
       "        vertical-align: top;\n",
       "    }\n",
       "\n",
       "    .dataframe thead th {\n",
       "        text-align: right;\n",
       "    }\n",
       "</style>\n",
       "<table border=\"1\" class=\"dataframe\">\n",
       "  <thead>\n",
       "    <tr style=\"text-align: right;\">\n",
       "      <th></th>\n",
       "      <th>Date/Time</th>\n",
       "      <th>Time</th>\n",
       "      <th>Street_Address</th>\n",
       "      <th>City_State</th>\n",
       "      <th>Unnamed: 4</th>\n",
       "      <th>Unnamed: 5</th>\n",
       "    </tr>\n",
       "  </thead>\n",
       "  <tbody>\n",
       "    <tr>\n",
       "      <th>0</th>\n",
       "      <td>7/1/2014</td>\n",
       "      <td>20:27</td>\n",
       "      <td>622 THIRD AV</td>\n",
       "      <td>M</td>\n",
       "      <td>NaN</td>\n",
       "      <td>NaN</td>\n",
       "    </tr>\n",
       "    <tr>\n",
       "      <th>1</th>\n",
       "      <td>7/1/2014</td>\n",
       "      <td>21:04</td>\n",
       "      <td>E 77TH ST</td>\n",
       "      <td>M</td>\n",
       "      <td>NaN</td>\n",
       "      <td>NaN</td>\n",
       "    </tr>\n",
       "    <tr>\n",
       "      <th>2</th>\n",
       "      <td>7/1/2014</td>\n",
       "      <td>22:20</td>\n",
       "      <td>67 WEST PALISADES BLVD</td>\n",
       "      <td>PALISADES PARK NJ</td>\n",
       "      <td>NaN</td>\n",
       "      <td>NaN</td>\n",
       "    </tr>\n",
       "    <tr>\n",
       "      <th>3</th>\n",
       "      <td>7/1/2014</td>\n",
       "      <td>12:28</td>\n",
       "      <td>130 MIDDLE NECK RD</td>\n",
       "      <td>SANDS POINT LI</td>\n",
       "      <td>NaN</td>\n",
       "      <td>NaN</td>\n",
       "    </tr>\n",
       "    <tr>\n",
       "      <th>4</th>\n",
       "      <td>7/1/2014</td>\n",
       "      <td>16:45</td>\n",
       "      <td>36 E 31ST ST</td>\n",
       "      <td>M</td>\n",
       "      <td>NaN</td>\n",
       "      <td>NaN</td>\n",
       "    </tr>\n",
       "  </tbody>\n",
       "</table>\n",
       "</div>"
      ],
      "text/plain": [
       "  Date/Time            Time                   Street_Address   \\\n",
       "0  7/1/2014      20:27           622 THIRD AV                   \n",
       "1  7/1/2014      21:04            E 77TH ST                     \n",
       "2  7/1/2014      22:20           67 WEST PALISADES BLVD         \n",
       "3  7/1/2014      12:28           130 MIDDLE NECK RD             \n",
       "4  7/1/2014      16:45           36 E 31ST ST                   \n",
       "\n",
       "                     City_State   Unnamed: 4  Unnamed: 5  \n",
       "0       M                                NaN         NaN  \n",
       "1       M                                NaN         NaN  \n",
       "2      PALISADES PARK NJ                 NaN         NaN  \n",
       "3      SANDS POINT LI                    NaN         NaN  \n",
       "4       M                                NaN         NaN  "
      ]
     },
     "execution_count": 7,
     "metadata": {},
     "output_type": "execute_result"
    }
   ],
   "source": [
    "df_skyline.head()"
   ]
  },
  {
   "cell_type": "code",
   "execution_count": 8,
   "metadata": {},
   "outputs": [],
   "source": [
    "df_skyline.drop(columns=['Unnamed: 4', 'Unnamed: 5'], inplace=True)\n",
    "df_skyline['Date/Time'] = df_skyline['Date/Time'].astype(str)+ df_skyline['Time'].astype(str)\n",
    "df_skyline['Date/Time'] = df_skyline['Date/Time'].apply(lambda x : str(x).replace(\" \", \"\"))\n",
    "df_skyline['Date/Time'] = pd.to_datetime(df_skyline['Date/Time'], format=\"%m/%d/%Y%H:%M\" )\n",
    "df_skyline.drop('Time',axis=1, inplace=True)\n",
    "df_skyline['Pick_Address'] = df_skyline['    Street_Address '] + df_skyline['    City_State ']\n",
    "df_skyline.drop(['    City_State ', '    Street_Address '],axis=1, inplace=True)\n",
    "df_skyline['company'] = \"Skyline\"\n",
    "df_skyline.columns = ['Date/Time', 'Pick_Address', 'Company']"
   ]
  },
  {
   "cell_type": "code",
   "execution_count": 9,
   "metadata": {},
   "outputs": [
    {
     "data": {
      "text/html": [
       "<div>\n",
       "<style scoped>\n",
       "    .dataframe tbody tr th:only-of-type {\n",
       "        vertical-align: middle;\n",
       "    }\n",
       "\n",
       "    .dataframe tbody tr th {\n",
       "        vertical-align: top;\n",
       "    }\n",
       "\n",
       "    .dataframe thead th {\n",
       "        text-align: right;\n",
       "    }\n",
       "</style>\n",
       "<table border=\"1\" class=\"dataframe\">\n",
       "  <thead>\n",
       "    <tr style=\"text-align: right;\">\n",
       "      <th></th>\n",
       "      <th>Date/Time</th>\n",
       "      <th>Pick_Address</th>\n",
       "      <th>Company</th>\n",
       "    </tr>\n",
       "  </thead>\n",
       "  <tbody>\n",
       "    <tr>\n",
       "      <th>0</th>\n",
       "      <td>2014-07-01 20:27:00</td>\n",
       "      <td>622 THIRD AV                     M        ...</td>\n",
       "      <td>Skyline</td>\n",
       "    </tr>\n",
       "    <tr>\n",
       "      <th>1</th>\n",
       "      <td>2014-07-01 21:04:00</td>\n",
       "      <td>E 77TH ST                       M        ...</td>\n",
       "      <td>Skyline</td>\n",
       "    </tr>\n",
       "    <tr>\n",
       "      <th>2</th>\n",
       "      <td>2014-07-01 22:20:00</td>\n",
       "      <td>67 WEST PALISADES BLVD          PALISADES ...</td>\n",
       "      <td>Skyline</td>\n",
       "    </tr>\n",
       "    <tr>\n",
       "      <th>3</th>\n",
       "      <td>2014-07-01 12:28:00</td>\n",
       "      <td>130 MIDDLE NECK RD              SANDS POIN...</td>\n",
       "      <td>Skyline</td>\n",
       "    </tr>\n",
       "    <tr>\n",
       "      <th>4</th>\n",
       "      <td>2014-07-01 16:45:00</td>\n",
       "      <td>36 E 31ST ST                     M        ...</td>\n",
       "      <td>Skyline</td>\n",
       "    </tr>\n",
       "  </tbody>\n",
       "</table>\n",
       "</div>"
      ],
      "text/plain": [
       "            Date/Time                                       Pick_Address  \\\n",
       "0 2014-07-01 20:27:00      622 THIRD AV                     M        ...   \n",
       "1 2014-07-01 21:04:00       E 77TH ST                       M        ...   \n",
       "2 2014-07-01 22:20:00      67 WEST PALISADES BLVD          PALISADES ...   \n",
       "3 2014-07-01 12:28:00      130 MIDDLE NECK RD              SANDS POIN...   \n",
       "4 2014-07-01 16:45:00      36 E 31ST ST                     M        ...   \n",
       "\n",
       "   Company  \n",
       "0  Skyline  \n",
       "1  Skyline  \n",
       "2  Skyline  \n",
       "3  Skyline  \n",
       "4  Skyline  "
      ]
     },
     "execution_count": 9,
     "metadata": {},
     "output_type": "execute_result"
    }
   ],
   "source": [
    "df_skyline.head()"
   ]
  },
  {
   "cell_type": "code",
   "execution_count": null,
   "metadata": {},
   "outputs": [],
   "source": []
  },
  {
   "cell_type": "code",
   "execution_count": null,
   "metadata": {},
   "outputs": [],
   "source": []
  },
  {
   "cell_type": "code",
   "execution_count": 10,
   "metadata": {},
   "outputs": [
    {
     "data": {
      "text/html": [
       "<div>\n",
       "<style scoped>\n",
       "    .dataframe tbody tr th:only-of-type {\n",
       "        vertical-align: middle;\n",
       "    }\n",
       "\n",
       "    .dataframe tbody tr th {\n",
       "        vertical-align: top;\n",
       "    }\n",
       "\n",
       "    .dataframe thead th {\n",
       "        text-align: right;\n",
       "    }\n",
       "</style>\n",
       "<table border=\"1\" class=\"dataframe\">\n",
       "  <thead>\n",
       "    <tr style=\"text-align: right;\">\n",
       "      <th></th>\n",
       "      <th>Date/Time</th>\n",
       "      <th>TIME</th>\n",
       "      <th>PICK UP ADDRESS</th>\n",
       "    </tr>\n",
       "  </thead>\n",
       "  <tbody>\n",
       "    <tr>\n",
       "      <th>0</th>\n",
       "      <td>7/1/2014</td>\n",
       "      <td>12:00:00 AM</td>\n",
       "      <td>2557 Marion Ave Fordham, BX</td>\n",
       "    </tr>\n",
       "    <tr>\n",
       "      <th>1</th>\n",
       "      <td>7/1/2014</td>\n",
       "      <td>12:00:00 AM</td>\n",
       "      <td>45 E Mosholu Pkwy N Williamsbridge, BX</td>\n",
       "    </tr>\n",
       "    <tr>\n",
       "      <th>2</th>\n",
       "      <td>7/1/2014</td>\n",
       "      <td>12:00:00 AM</td>\n",
       "      <td>458 E 143rd St Mott Haven, BX</td>\n",
       "    </tr>\n",
       "    <tr>\n",
       "      <th>3</th>\n",
       "      <td>7/1/2014</td>\n",
       "      <td>12:02:00 AM</td>\n",
       "      <td>MINIVAN SUV 2557 Marion Ave Fordham, BX</td>\n",
       "    </tr>\n",
       "    <tr>\n",
       "      <th>4</th>\n",
       "      <td>7/1/2014</td>\n",
       "      <td>12:02:00 AM</td>\n",
       "      <td>1117 Westchester Ave Foxhurst, BX</td>\n",
       "    </tr>\n",
       "  </tbody>\n",
       "</table>\n",
       "</div>"
      ],
      "text/plain": [
       "  Date/Time         TIME                          PICK UP ADDRESS\n",
       "0  7/1/2014  12:00:00 AM              2557 Marion Ave Fordham, BX\n",
       "1  7/1/2014  12:00:00 AM   45 E Mosholu Pkwy N Williamsbridge, BX\n",
       "2  7/1/2014  12:00:00 AM            458 E 143rd St Mott Haven, BX\n",
       "3  7/1/2014  12:02:00 AM  MINIVAN SUV 2557 Marion Ave Fordham, BX\n",
       "4  7/1/2014  12:02:00 AM        1117 Westchester Ave Foxhurst, BX"
      ]
     },
     "execution_count": 10,
     "metadata": {},
     "output_type": "execute_result"
    }
   ],
   "source": [
    "df_prestige.head()"
   ]
  },
  {
   "cell_type": "code",
   "execution_count": 11,
   "metadata": {},
   "outputs": [],
   "source": [
    "df_prestige['Date/Time'] = df_prestige['Date/Time'].astype(str)+ df_prestige['TIME'].astype(str)\n",
    "df_prestige['Date/Time'] = df_prestige['Date/Time'].apply(lambda x : str(x).replace(\" \", \"\").replace(\"AM\", \"\").replace(\"PM\",\"\"))\n",
    "df_prestige['Date/Time'] = pd.to_datetime(df_prestige['Date/Time'], format=\"%m/%d/%Y%H:%M:%S\" )\n",
    "df_prestige.drop('TIME', axis=1, inplace=True)\n",
    "df_prestige['company'] = \"Prestige\"\n",
    "df_prestige.columns  = ['Date/Time', 'Pick_Address', 'Company']"
   ]
  },
  {
   "cell_type": "code",
   "execution_count": 12,
   "metadata": {},
   "outputs": [
    {
     "data": {
      "text/html": [
       "<div>\n",
       "<style scoped>\n",
       "    .dataframe tbody tr th:only-of-type {\n",
       "        vertical-align: middle;\n",
       "    }\n",
       "\n",
       "    .dataframe tbody tr th {\n",
       "        vertical-align: top;\n",
       "    }\n",
       "\n",
       "    .dataframe thead th {\n",
       "        text-align: right;\n",
       "    }\n",
       "</style>\n",
       "<table border=\"1\" class=\"dataframe\">\n",
       "  <thead>\n",
       "    <tr style=\"text-align: right;\">\n",
       "      <th></th>\n",
       "      <th>Date/Time</th>\n",
       "      <th>Pick_Address</th>\n",
       "      <th>Company</th>\n",
       "    </tr>\n",
       "  </thead>\n",
       "  <tbody>\n",
       "    <tr>\n",
       "      <th>0</th>\n",
       "      <td>2014-07-01 12:00:00</td>\n",
       "      <td>2557 Marion Ave Fordham, BX</td>\n",
       "      <td>Prestige</td>\n",
       "    </tr>\n",
       "    <tr>\n",
       "      <th>1</th>\n",
       "      <td>2014-07-01 12:00:00</td>\n",
       "      <td>45 E Mosholu Pkwy N Williamsbridge, BX</td>\n",
       "      <td>Prestige</td>\n",
       "    </tr>\n",
       "    <tr>\n",
       "      <th>2</th>\n",
       "      <td>2014-07-01 12:00:00</td>\n",
       "      <td>458 E 143rd St Mott Haven, BX</td>\n",
       "      <td>Prestige</td>\n",
       "    </tr>\n",
       "    <tr>\n",
       "      <th>3</th>\n",
       "      <td>2014-07-01 12:02:00</td>\n",
       "      <td>MINIVAN SUV 2557 Marion Ave Fordham, BX</td>\n",
       "      <td>Prestige</td>\n",
       "    </tr>\n",
       "    <tr>\n",
       "      <th>4</th>\n",
       "      <td>2014-07-01 12:02:00</td>\n",
       "      <td>1117 Westchester Ave Foxhurst, BX</td>\n",
       "      <td>Prestige</td>\n",
       "    </tr>\n",
       "  </tbody>\n",
       "</table>\n",
       "</div>"
      ],
      "text/plain": [
       "            Date/Time                             Pick_Address   Company\n",
       "0 2014-07-01 12:00:00              2557 Marion Ave Fordham, BX  Prestige\n",
       "1 2014-07-01 12:00:00   45 E Mosholu Pkwy N Williamsbridge, BX  Prestige\n",
       "2 2014-07-01 12:00:00            458 E 143rd St Mott Haven, BX  Prestige\n",
       "3 2014-07-01 12:02:00  MINIVAN SUV 2557 Marion Ave Fordham, BX  Prestige\n",
       "4 2014-07-01 12:02:00        1117 Westchester Ave Foxhurst, BX  Prestige"
      ]
     },
     "execution_count": 12,
     "metadata": {},
     "output_type": "execute_result"
    }
   ],
   "source": [
    "df_prestige.head()"
   ]
  },
  {
   "cell_type": "code",
   "execution_count": null,
   "metadata": {},
   "outputs": [],
   "source": []
  },
  {
   "cell_type": "code",
   "execution_count": null,
   "metadata": {},
   "outputs": [],
   "source": []
  },
  {
   "cell_type": "code",
   "execution_count": 13,
   "metadata": {},
   "outputs": [
    {
     "data": {
      "text/html": [
       "<div>\n",
       "<style scoped>\n",
       "    .dataframe tbody tr th:only-of-type {\n",
       "        vertical-align: middle;\n",
       "    }\n",
       "\n",
       "    .dataframe tbody tr th {\n",
       "        vertical-align: top;\n",
       "    }\n",
       "\n",
       "    .dataframe thead th {\n",
       "        text-align: right;\n",
       "    }\n",
       "</style>\n",
       "<table border=\"1\" class=\"dataframe\">\n",
       "  <thead>\n",
       "    <tr style=\"text-align: right;\">\n",
       "      <th></th>\n",
       "      <th>Date/Time</th>\n",
       "      <th>start_lat</th>\n",
       "      <th>start_lng</th>\n",
       "      <th>Unnamed: 3</th>\n",
       "    </tr>\n",
       "  </thead>\n",
       "  <tbody>\n",
       "    <tr>\n",
       "      <th>0</th>\n",
       "      <td>9/4/2014 9:51</td>\n",
       "      <td>40.64705</td>\n",
       "      <td>-73.77988</td>\n",
       "      <td>NaN</td>\n",
       "    </tr>\n",
       "    <tr>\n",
       "      <th>1</th>\n",
       "      <td>8/27/2014 21:13</td>\n",
       "      <td>40.74916</td>\n",
       "      <td>-73.98373</td>\n",
       "      <td>NaN</td>\n",
       "    </tr>\n",
       "    <tr>\n",
       "      <th>2</th>\n",
       "      <td>9/4/2014 14:16</td>\n",
       "      <td>40.64065</td>\n",
       "      <td>-73.97594</td>\n",
       "      <td>NaN</td>\n",
       "    </tr>\n",
       "    <tr>\n",
       "      <th>3</th>\n",
       "      <td>9/4/2014 16:08</td>\n",
       "      <td>40.75002</td>\n",
       "      <td>-73.99514</td>\n",
       "      <td>NaN</td>\n",
       "    </tr>\n",
       "    <tr>\n",
       "      <th>4</th>\n",
       "      <td>8/28/2014 2:41</td>\n",
       "      <td>40.76715</td>\n",
       "      <td>-73.98636</td>\n",
       "      <td>NaN</td>\n",
       "    </tr>\n",
       "  </tbody>\n",
       "</table>\n",
       "</div>"
      ],
      "text/plain": [
       "         Date/Time  start_lat  start_lng Unnamed: 3\n",
       "0    9/4/2014 9:51   40.64705  -73.77988        NaN\n",
       "1  8/27/2014 21:13   40.74916  -73.98373        NaN\n",
       "2   9/4/2014 14:16   40.64065  -73.97594        NaN\n",
       "3   9/4/2014 16:08   40.75002  -73.99514        NaN\n",
       "4   8/28/2014 2:41   40.76715  -73.98636        NaN"
      ]
     },
     "execution_count": 13,
     "metadata": {},
     "output_type": "execute_result"
    }
   ],
   "source": [
    "df_lyft.head()"
   ]
  },
  {
   "cell_type": "code",
   "execution_count": 14,
   "metadata": {},
   "outputs": [],
   "source": [
    "df_lyft.drop('Unnamed: 3', axis=1, inplace=True)\n",
    "df_lyft['Date/Time'] = pd.to_datetime(df_lyft['Date/Time'], format=\"%m/%d/%Y %H:%M\" )\n",
    "df_lyft.columns = ['Date/Time','Lat', 'Lon']\n",
    "df_lyft['Company'] = \"Lyft\"\n",
    "df_lyft.dropna(inplace=True)"
   ]
  },
  {
   "cell_type": "code",
   "execution_count": 15,
   "metadata": {},
   "outputs": [
    {
     "data": {
      "text/html": [
       "<div>\n",
       "<style scoped>\n",
       "    .dataframe tbody tr th:only-of-type {\n",
       "        vertical-align: middle;\n",
       "    }\n",
       "\n",
       "    .dataframe tbody tr th {\n",
       "        vertical-align: top;\n",
       "    }\n",
       "\n",
       "    .dataframe thead th {\n",
       "        text-align: right;\n",
       "    }\n",
       "</style>\n",
       "<table border=\"1\" class=\"dataframe\">\n",
       "  <thead>\n",
       "    <tr style=\"text-align: right;\">\n",
       "      <th></th>\n",
       "      <th>Date/Time</th>\n",
       "      <th>Lat</th>\n",
       "      <th>Lon</th>\n",
       "      <th>Company</th>\n",
       "    </tr>\n",
       "  </thead>\n",
       "  <tbody>\n",
       "    <tr>\n",
       "      <th>0</th>\n",
       "      <td>2014-09-04 09:51:00</td>\n",
       "      <td>40.64705</td>\n",
       "      <td>-73.77988</td>\n",
       "      <td>Lyft</td>\n",
       "    </tr>\n",
       "    <tr>\n",
       "      <th>1</th>\n",
       "      <td>2014-08-27 21:13:00</td>\n",
       "      <td>40.74916</td>\n",
       "      <td>-73.98373</td>\n",
       "      <td>Lyft</td>\n",
       "    </tr>\n",
       "    <tr>\n",
       "      <th>2</th>\n",
       "      <td>2014-09-04 14:16:00</td>\n",
       "      <td>40.64065</td>\n",
       "      <td>-73.97594</td>\n",
       "      <td>Lyft</td>\n",
       "    </tr>\n",
       "    <tr>\n",
       "      <th>3</th>\n",
       "      <td>2014-09-04 16:08:00</td>\n",
       "      <td>40.75002</td>\n",
       "      <td>-73.99514</td>\n",
       "      <td>Lyft</td>\n",
       "    </tr>\n",
       "    <tr>\n",
       "      <th>4</th>\n",
       "      <td>2014-08-28 02:41:00</td>\n",
       "      <td>40.76715</td>\n",
       "      <td>-73.98636</td>\n",
       "      <td>Lyft</td>\n",
       "    </tr>\n",
       "  </tbody>\n",
       "</table>\n",
       "</div>"
      ],
      "text/plain": [
       "            Date/Time       Lat       Lon Company\n",
       "0 2014-09-04 09:51:00  40.64705 -73.77988    Lyft\n",
       "1 2014-08-27 21:13:00  40.74916 -73.98373    Lyft\n",
       "2 2014-09-04 14:16:00  40.64065 -73.97594    Lyft\n",
       "3 2014-09-04 16:08:00  40.75002 -73.99514    Lyft\n",
       "4 2014-08-28 02:41:00  40.76715 -73.98636    Lyft"
      ]
     },
     "execution_count": 15,
     "metadata": {},
     "output_type": "execute_result"
    }
   ],
   "source": [
    "df_lyft.head()"
   ]
  },
  {
   "cell_type": "code",
   "execution_count": null,
   "metadata": {},
   "outputs": [],
   "source": []
  },
  {
   "cell_type": "code",
   "execution_count": null,
   "metadata": {},
   "outputs": [],
   "source": []
  },
  {
   "cell_type": "code",
   "execution_count": 16,
   "metadata": {},
   "outputs": [
    {
     "data": {
      "text/html": [
       "<div>\n",
       "<style scoped>\n",
       "    .dataframe tbody tr th:only-of-type {\n",
       "        vertical-align: middle;\n",
       "    }\n",
       "\n",
       "    .dataframe tbody tr th {\n",
       "        vertical-align: top;\n",
       "    }\n",
       "\n",
       "    .dataframe thead th {\n",
       "        text-align: right;\n",
       "    }\n",
       "</style>\n",
       "<table border=\"1\" class=\"dataframe\">\n",
       "  <thead>\n",
       "    <tr style=\"text-align: right;\">\n",
       "      <th></th>\n",
       "      <th>Date/Time</th>\n",
       "      <th>TIME</th>\n",
       "      <th>PU_Address</th>\n",
       "    </tr>\n",
       "  </thead>\n",
       "  <tbody>\n",
       "    <tr>\n",
       "      <th>0</th>\n",
       "      <td>7/1/2014</td>\n",
       "      <td>12:00:00 AM</td>\n",
       "      <td>2976 Marion Ave Fordham, BX</td>\n",
       "    </tr>\n",
       "    <tr>\n",
       "      <th>1</th>\n",
       "      <td>7/1/2014</td>\n",
       "      <td>12:01:00 AM</td>\n",
       "      <td>780 Grand Concourse Cortlandt, BX</td>\n",
       "    </tr>\n",
       "    <tr>\n",
       "      <th>2</th>\n",
       "      <td>7/1/2014</td>\n",
       "      <td>12:01:00 AM</td>\n",
       "      <td>105 Elliot Pl High Bridge, BX</td>\n",
       "    </tr>\n",
       "    <tr>\n",
       "      <th>3</th>\n",
       "      <td>7/1/2014</td>\n",
       "      <td>12:03:00 AM</td>\n",
       "      <td>2825 Webb Ave Bronx</td>\n",
       "    </tr>\n",
       "    <tr>\n",
       "      <th>4</th>\n",
       "      <td>7/1/2014</td>\n",
       "      <td>12:04:00 AM</td>\n",
       "      <td>1878 Cedar Ave Morris Heights, BX</td>\n",
       "    </tr>\n",
       "  </tbody>\n",
       "</table>\n",
       "</div>"
      ],
      "text/plain": [
       "  Date/Time         TIME                          PU_Address\n",
       "0  7/1/2014  12:00:00 AM         2976 Marion Ave Fordham, BX\n",
       "1  7/1/2014  12:01:00 AM   780 Grand Concourse Cortlandt, BX\n",
       "2  7/1/2014  12:01:00 AM       105 Elliot Pl High Bridge, BX\n",
       "3  7/1/2014  12:03:00 AM                 2825 Webb Ave Bronx\n",
       "4  7/1/2014  12:04:00 AM   1878 Cedar Ave Morris Heights, BX"
      ]
     },
     "execution_count": 16,
     "metadata": {},
     "output_type": "execute_result"
    }
   ],
   "source": [
    "df_high_class.head()"
   ]
  },
  {
   "cell_type": "code",
   "execution_count": 17,
   "metadata": {},
   "outputs": [],
   "source": [
    "df_high_class['Date/Time'] = df_high_class['Date/Time'].astype(str)+ df_high_class['TIME'].astype(str)\n",
    "df_high_class['Date/Time'] = df_high_class['Date/Time'].apply(lambda x : str(x).replace(\" \", \"\").replace(\"AM\", \"\").replace(\"PM\",\"\"))\n",
    "df_high_class['Date/Time'] = pd.to_datetime(df_high_class['Date/Time'], format=\"%m/%d/%Y%H:%M:%S\" )\n",
    "df_high_class.drop('TIME', axis=1, inplace=True)\n",
    "df_high_class['company'] = \"High_Class\"\n",
    "df_high_class.columns  = ['Date/Time', 'Pick_Address', 'Company']"
   ]
  },
  {
   "cell_type": "code",
   "execution_count": 18,
   "metadata": {},
   "outputs": [
    {
     "data": {
      "text/html": [
       "<div>\n",
       "<style scoped>\n",
       "    .dataframe tbody tr th:only-of-type {\n",
       "        vertical-align: middle;\n",
       "    }\n",
       "\n",
       "    .dataframe tbody tr th {\n",
       "        vertical-align: top;\n",
       "    }\n",
       "\n",
       "    .dataframe thead th {\n",
       "        text-align: right;\n",
       "    }\n",
       "</style>\n",
       "<table border=\"1\" class=\"dataframe\">\n",
       "  <thead>\n",
       "    <tr style=\"text-align: right;\">\n",
       "      <th></th>\n",
       "      <th>Date/Time</th>\n",
       "      <th>Pick_Address</th>\n",
       "      <th>Company</th>\n",
       "    </tr>\n",
       "  </thead>\n",
       "  <tbody>\n",
       "    <tr>\n",
       "      <th>0</th>\n",
       "      <td>2014-07-01 12:00:00</td>\n",
       "      <td>2976 Marion Ave Fordham, BX</td>\n",
       "      <td>High_Class</td>\n",
       "    </tr>\n",
       "    <tr>\n",
       "      <th>1</th>\n",
       "      <td>2014-07-01 12:01:00</td>\n",
       "      <td>780 Grand Concourse Cortlandt, BX</td>\n",
       "      <td>High_Class</td>\n",
       "    </tr>\n",
       "    <tr>\n",
       "      <th>2</th>\n",
       "      <td>2014-07-01 12:01:00</td>\n",
       "      <td>105 Elliot Pl High Bridge, BX</td>\n",
       "      <td>High_Class</td>\n",
       "    </tr>\n",
       "    <tr>\n",
       "      <th>3</th>\n",
       "      <td>2014-07-01 12:03:00</td>\n",
       "      <td>2825 Webb Ave Bronx</td>\n",
       "      <td>High_Class</td>\n",
       "    </tr>\n",
       "    <tr>\n",
       "      <th>4</th>\n",
       "      <td>2014-07-01 12:04:00</td>\n",
       "      <td>1878 Cedar Ave Morris Heights, BX</td>\n",
       "      <td>High_Class</td>\n",
       "    </tr>\n",
       "  </tbody>\n",
       "</table>\n",
       "</div>"
      ],
      "text/plain": [
       "            Date/Time                        Pick_Address     Company\n",
       "0 2014-07-01 12:00:00         2976 Marion Ave Fordham, BX  High_Class\n",
       "1 2014-07-01 12:01:00   780 Grand Concourse Cortlandt, BX  High_Class\n",
       "2 2014-07-01 12:01:00       105 Elliot Pl High Bridge, BX  High_Class\n",
       "3 2014-07-01 12:03:00                 2825 Webb Ave Bronx  High_Class\n",
       "4 2014-07-01 12:04:00   1878 Cedar Ave Morris Heights, BX  High_Class"
      ]
     },
     "execution_count": 18,
     "metadata": {},
     "output_type": "execute_result"
    }
   ],
   "source": [
    "df_high_class.head()"
   ]
  },
  {
   "cell_type": "code",
   "execution_count": null,
   "metadata": {},
   "outputs": [],
   "source": []
  },
  {
   "cell_type": "code",
   "execution_count": null,
   "metadata": {},
   "outputs": [],
   "source": []
  },
  {
   "cell_type": "code",
   "execution_count": 19,
   "metadata": {},
   "outputs": [
    {
     "data": {
      "text/html": [
       "<div>\n",
       "<style scoped>\n",
       "    .dataframe tbody tr th:only-of-type {\n",
       "        vertical-align: middle;\n",
       "    }\n",
       "\n",
       "    .dataframe tbody tr th {\n",
       "        vertical-align: top;\n",
       "    }\n",
       "\n",
       "    .dataframe thead th {\n",
       "        text-align: right;\n",
       "    }\n",
       "</style>\n",
       "<table border=\"1\" class=\"dataframe\">\n",
       "  <thead>\n",
       "    <tr style=\"text-align: right;\">\n",
       "      <th></th>\n",
       "      <th>Date/Time</th>\n",
       "      <th>TIME</th>\n",
       "      <th>PICK UP ADDRESS</th>\n",
       "    </tr>\n",
       "  </thead>\n",
       "  <tbody>\n",
       "    <tr>\n",
       "      <th>0</th>\n",
       "      <td>7/1/2014</td>\n",
       "      <td>12:02:00 AM</td>\n",
       "      <td>5360 Broadway Kingsbridge, BX</td>\n",
       "    </tr>\n",
       "    <tr>\n",
       "      <th>1</th>\n",
       "      <td>7/1/2014</td>\n",
       "      <td>12:02:00 AM</td>\n",
       "      <td>546 Isham St NYC</td>\n",
       "    </tr>\n",
       "    <tr>\n",
       "      <th>2</th>\n",
       "      <td>7/1/2014</td>\n",
       "      <td>12:03:00 AM</td>\n",
       "      <td>234 Bradhurst Ave NYC</td>\n",
       "    </tr>\n",
       "    <tr>\n",
       "      <th>3</th>\n",
       "      <td>7/1/2014</td>\n",
       "      <td>12:07:00 AM</td>\n",
       "      <td>99 Marble Hill Ave Bronx</td>\n",
       "    </tr>\n",
       "    <tr>\n",
       "      <th>4</th>\n",
       "      <td>7/1/2014</td>\n",
       "      <td>12:08:00 AM</td>\n",
       "      <td>120 Vermilyea Ave NYC</td>\n",
       "    </tr>\n",
       "  </tbody>\n",
       "</table>\n",
       "</div>"
      ],
      "text/plain": [
       "  Date/Time         TIME                 PICK UP ADDRESS\n",
       "0  7/1/2014  12:02:00 AM   5360 Broadway Kingsbridge, BX\n",
       "1  7/1/2014  12:02:00 AM                546 Isham St NYC\n",
       "2  7/1/2014  12:03:00 AM           234 Bradhurst Ave NYC\n",
       "3  7/1/2014  12:07:00 AM        99 Marble Hill Ave Bronx\n",
       "4  7/1/2014  12:08:00 AM           120 Vermilyea Ave NYC"
      ]
     },
     "execution_count": 19,
     "metadata": {},
     "output_type": "execute_result"
    }
   ],
   "source": [
    "df_first_class.head()"
   ]
  },
  {
   "cell_type": "code",
   "execution_count": 20,
   "metadata": {},
   "outputs": [],
   "source": [
    "df_first_class['Date/Time'] = df_first_class['Date/Time'].astype(str)+ df_first_class['TIME'].astype(str)\n",
    "df_first_class['Date/Time'] = df_first_class['Date/Time'].apply(lambda x : str(x).replace(\" \", \"\").replace(\"AM\", \"\").replace(\"PM\",\"\"))\n",
    "df_first_class['Date/Time'] = pd.to_datetime(df_first_class['Date/Time'], format=\"%m/%d/%Y%H:%M:%S\" )\n",
    "df_first_class.drop('TIME', axis=1, inplace=True)\n",
    "df_first_class['company'] = \"First_Class\"\n",
    "df_first_class.columns  = ['Date/Time', 'Pick_Address', 'Company']"
   ]
  },
  {
   "cell_type": "code",
   "execution_count": 21,
   "metadata": {},
   "outputs": [
    {
     "data": {
      "text/html": [
       "<div>\n",
       "<style scoped>\n",
       "    .dataframe tbody tr th:only-of-type {\n",
       "        vertical-align: middle;\n",
       "    }\n",
       "\n",
       "    .dataframe tbody tr th {\n",
       "        vertical-align: top;\n",
       "    }\n",
       "\n",
       "    .dataframe thead th {\n",
       "        text-align: right;\n",
       "    }\n",
       "</style>\n",
       "<table border=\"1\" class=\"dataframe\">\n",
       "  <thead>\n",
       "    <tr style=\"text-align: right;\">\n",
       "      <th></th>\n",
       "      <th>Date/Time</th>\n",
       "      <th>Pick_Address</th>\n",
       "      <th>Company</th>\n",
       "    </tr>\n",
       "  </thead>\n",
       "  <tbody>\n",
       "    <tr>\n",
       "      <th>0</th>\n",
       "      <td>2014-07-01 12:02:00</td>\n",
       "      <td>5360 Broadway Kingsbridge, BX</td>\n",
       "      <td>First_Class</td>\n",
       "    </tr>\n",
       "    <tr>\n",
       "      <th>1</th>\n",
       "      <td>2014-07-01 12:02:00</td>\n",
       "      <td>546 Isham St NYC</td>\n",
       "      <td>First_Class</td>\n",
       "    </tr>\n",
       "    <tr>\n",
       "      <th>2</th>\n",
       "      <td>2014-07-01 12:03:00</td>\n",
       "      <td>234 Bradhurst Ave NYC</td>\n",
       "      <td>First_Class</td>\n",
       "    </tr>\n",
       "    <tr>\n",
       "      <th>3</th>\n",
       "      <td>2014-07-01 12:07:00</td>\n",
       "      <td>99 Marble Hill Ave Bronx</td>\n",
       "      <td>First_Class</td>\n",
       "    </tr>\n",
       "    <tr>\n",
       "      <th>4</th>\n",
       "      <td>2014-07-01 12:08:00</td>\n",
       "      <td>120 Vermilyea Ave NYC</td>\n",
       "      <td>First_Class</td>\n",
       "    </tr>\n",
       "  </tbody>\n",
       "</table>\n",
       "</div>"
      ],
      "text/plain": [
       "            Date/Time                    Pick_Address      Company\n",
       "0 2014-07-01 12:02:00   5360 Broadway Kingsbridge, BX  First_Class\n",
       "1 2014-07-01 12:02:00                546 Isham St NYC  First_Class\n",
       "2 2014-07-01 12:03:00           234 Bradhurst Ave NYC  First_Class\n",
       "3 2014-07-01 12:07:00        99 Marble Hill Ave Bronx  First_Class\n",
       "4 2014-07-01 12:08:00           120 Vermilyea Ave NYC  First_Class"
      ]
     },
     "execution_count": 21,
     "metadata": {},
     "output_type": "execute_result"
    }
   ],
   "source": [
    "df_first_class.head()"
   ]
  },
  {
   "cell_type": "code",
   "execution_count": null,
   "metadata": {},
   "outputs": [],
   "source": []
  },
  {
   "cell_type": "code",
   "execution_count": null,
   "metadata": {},
   "outputs": [],
   "source": []
  },
  {
   "cell_type": "code",
   "execution_count": 22,
   "metadata": {},
   "outputs": [
    {
     "data": {
      "text/html": [
       "<div>\n",
       "<style scoped>\n",
       "    .dataframe tbody tr th:only-of-type {\n",
       "        vertical-align: middle;\n",
       "    }\n",
       "\n",
       "    .dataframe tbody tr th {\n",
       "        vertical-align: top;\n",
       "    }\n",
       "\n",
       "    .dataframe thead th {\n",
       "        text-align: right;\n",
       "    }\n",
       "</style>\n",
       "<table border=\"1\" class=\"dataframe\">\n",
       "  <thead>\n",
       "    <tr style=\"text-align: right;\">\n",
       "      <th></th>\n",
       "      <th>Date/Time</th>\n",
       "      <th>Time</th>\n",
       "      <th>PU_Address</th>\n",
       "      <th>DO_Address</th>\n",
       "      <th>Routing Details</th>\n",
       "      <th>PU_Address.1</th>\n",
       "      <th>Status</th>\n",
       "    </tr>\n",
       "  </thead>\n",
       "  <tbody>\n",
       "    <tr>\n",
       "      <th>0</th>\n",
       "      <td>07/01/2014</td>\n",
       "      <td>07:15 AM</td>\n",
       "      <td>Brooklyn Museum, 200 Eastern Pkwy., BK NY;</td>\n",
       "      <td>1 Brookdale Plaza, BK NY;</td>\n",
       "      <td>PU: Brooklyn Museum, 200 Eastern Pkwy., BK NY;...</td>\n",
       "      <td>Brooklyn Museum, 200 Eastern Pkwy., BK NY; DO:...</td>\n",
       "      <td>Cancelled</td>\n",
       "    </tr>\n",
       "    <tr>\n",
       "      <th>1</th>\n",
       "      <td>07/01/2014</td>\n",
       "      <td>07:30 AM</td>\n",
       "      <td>33 Robert Dr., Short Hills NJ;</td>\n",
       "      <td>John F Kennedy International Airport, vitona A...</td>\n",
       "      <td>PU: 33 Robert Dr., Short Hills NJ; DO: John F ...</td>\n",
       "      <td>33 Robert Dr., Short Hills NJ; DO: John F Kenn...</td>\n",
       "      <td>Arrived</td>\n",
       "    </tr>\n",
       "    <tr>\n",
       "      <th>2</th>\n",
       "      <td>07/01/2014</td>\n",
       "      <td>08:00 AM</td>\n",
       "      <td>60 Glenmore Ave., BK NY;</td>\n",
       "      <td>2171 Nostrand Ave., BK NY;</td>\n",
       "      <td>PU: 60 Glenmore Ave., BK NY; DO: 2171 Nostrand...</td>\n",
       "      <td>60 Glenmore Ave., BK NY; DO: 2171 Nostrand Ave...</td>\n",
       "      <td>Assigned</td>\n",
       "    </tr>\n",
       "    <tr>\n",
       "      <th>3</th>\n",
       "      <td>07/01/2014</td>\n",
       "      <td>09:00 AM</td>\n",
       "      <td>128 East 31 St., BK NY;</td>\n",
       "      <td>369 93rd St., BK NY;</td>\n",
       "      <td>PU: 128 East 31 St., BK NY; DO: 369 93rd St., ...</td>\n",
       "      <td>128 East 31 St., BK NY; DO: 369 93rd St., BK NY;</td>\n",
       "      <td>Assigned</td>\n",
       "    </tr>\n",
       "    <tr>\n",
       "      <th>4</th>\n",
       "      <td>07/01/2014</td>\n",
       "      <td>09:30 AM</td>\n",
       "      <td>139-39 35 Ave., Flushing NY;</td>\n",
       "      <td>La Guardia Airport;</td>\n",
       "      <td>PU: 139-39 35 Ave., Flushing NY; DO: La Guardi...</td>\n",
       "      <td>139-39 35 Ave., Flushing NY; DO: La Guardia Ai...</td>\n",
       "      <td>Assigned</td>\n",
       "    </tr>\n",
       "  </tbody>\n",
       "</table>\n",
       "</div>"
      ],
      "text/plain": [
       "    Date/Time      Time                                  PU_Address  \\\n",
       "0  07/01/2014  07:15 AM  Brooklyn Museum, 200 Eastern Pkwy., BK NY;   \n",
       "1  07/01/2014  07:30 AM              33 Robert Dr., Short Hills NJ;   \n",
       "2  07/01/2014  08:00 AM                    60 Glenmore Ave., BK NY;   \n",
       "3  07/01/2014  09:00 AM                     128 East 31 St., BK NY;   \n",
       "4  07/01/2014  09:30 AM                139-39 35 Ave., Flushing NY;   \n",
       "\n",
       "                                          DO_Address  \\\n",
       "0                         1 Brookdale Plaza, BK NY;    \n",
       "1  John F Kennedy International Airport, vitona A...   \n",
       "2                        2171 Nostrand Ave., BK NY;    \n",
       "3                              369 93rd St., BK NY;    \n",
       "4                               La Guardia Airport;    \n",
       "\n",
       "                                     Routing Details  \\\n",
       "0  PU: Brooklyn Museum, 200 Eastern Pkwy., BK NY;...   \n",
       "1  PU: 33 Robert Dr., Short Hills NJ; DO: John F ...   \n",
       "2  PU: 60 Glenmore Ave., BK NY; DO: 2171 Nostrand...   \n",
       "3  PU: 128 East 31 St., BK NY; DO: 369 93rd St., ...   \n",
       "4  PU: 139-39 35 Ave., Flushing NY; DO: La Guardi...   \n",
       "\n",
       "                                        PU_Address.1     Status  \n",
       "0  Brooklyn Museum, 200 Eastern Pkwy., BK NY; DO:...  Cancelled  \n",
       "1  33 Robert Dr., Short Hills NJ; DO: John F Kenn...    Arrived  \n",
       "2  60 Glenmore Ave., BK NY; DO: 2171 Nostrand Ave...   Assigned  \n",
       "3  128 East 31 St., BK NY; DO: 369 93rd St., BK NY;    Assigned  \n",
       "4  139-39 35 Ave., Flushing NY; DO: La Guardia Ai...   Assigned  "
      ]
     },
     "execution_count": 22,
     "metadata": {},
     "output_type": "execute_result"
    }
   ],
   "source": [
    "df_federal.head()"
   ]
  },
  {
   "cell_type": "code",
   "execution_count": 23,
   "metadata": {},
   "outputs": [],
   "source": [
    "df_federal['Date/Time'] = df_federal['Date/Time'].astype(str)+ df_federal['Time'].astype(str)\n",
    "df_federal['Date/Time'] = df_federal['Date/Time'].apply(lambda x : str(x).replace(\" \", \"\").replace(\"AM\", \"\").replace(\"PM\",\"\"))\n",
    "df_federal['Date/Time'] = pd.to_datetime(df_federal['Date/Time'], format=\"%m/%d/%Y%H:%M\")\n",
    "df_federal.drop('Time', axis=1, inplace=True)\n",
    "df_federal.drop(['Routing Details', 'PU_Address.1', 'Status'], axis=1, inplace=True)\n",
    "df_federal.columns = ['Date/Time', 'Pick_Address', 'Drop_Address']\n",
    "df_federal['Company'] = \"Federal\"\n"
   ]
  },
  {
   "cell_type": "code",
   "execution_count": 24,
   "metadata": {},
   "outputs": [
    {
     "data": {
      "text/html": [
       "<div>\n",
       "<style scoped>\n",
       "    .dataframe tbody tr th:only-of-type {\n",
       "        vertical-align: middle;\n",
       "    }\n",
       "\n",
       "    .dataframe tbody tr th {\n",
       "        vertical-align: top;\n",
       "    }\n",
       "\n",
       "    .dataframe thead th {\n",
       "        text-align: right;\n",
       "    }\n",
       "</style>\n",
       "<table border=\"1\" class=\"dataframe\">\n",
       "  <thead>\n",
       "    <tr style=\"text-align: right;\">\n",
       "      <th></th>\n",
       "      <th>Date/Time</th>\n",
       "      <th>Pick_Address</th>\n",
       "      <th>Drop_Address</th>\n",
       "      <th>Company</th>\n",
       "    </tr>\n",
       "  </thead>\n",
       "  <tbody>\n",
       "    <tr>\n",
       "      <th>0</th>\n",
       "      <td>2014-07-01 07:15:00</td>\n",
       "      <td>Brooklyn Museum, 200 Eastern Pkwy., BK NY;</td>\n",
       "      <td>1 Brookdale Plaza, BK NY;</td>\n",
       "      <td>Federal</td>\n",
       "    </tr>\n",
       "    <tr>\n",
       "      <th>1</th>\n",
       "      <td>2014-07-01 07:30:00</td>\n",
       "      <td>33 Robert Dr., Short Hills NJ;</td>\n",
       "      <td>John F Kennedy International Airport, vitona A...</td>\n",
       "      <td>Federal</td>\n",
       "    </tr>\n",
       "    <tr>\n",
       "      <th>2</th>\n",
       "      <td>2014-07-01 08:00:00</td>\n",
       "      <td>60 Glenmore Ave., BK NY;</td>\n",
       "      <td>2171 Nostrand Ave., BK NY;</td>\n",
       "      <td>Federal</td>\n",
       "    </tr>\n",
       "    <tr>\n",
       "      <th>3</th>\n",
       "      <td>2014-07-01 09:00:00</td>\n",
       "      <td>128 East 31 St., BK NY;</td>\n",
       "      <td>369 93rd St., BK NY;</td>\n",
       "      <td>Federal</td>\n",
       "    </tr>\n",
       "    <tr>\n",
       "      <th>4</th>\n",
       "      <td>2014-07-01 09:30:00</td>\n",
       "      <td>139-39 35 Ave., Flushing NY;</td>\n",
       "      <td>La Guardia Airport;</td>\n",
       "      <td>Federal</td>\n",
       "    </tr>\n",
       "  </tbody>\n",
       "</table>\n",
       "</div>"
      ],
      "text/plain": [
       "            Date/Time                                Pick_Address  \\\n",
       "0 2014-07-01 07:15:00  Brooklyn Museum, 200 Eastern Pkwy., BK NY;   \n",
       "1 2014-07-01 07:30:00              33 Robert Dr., Short Hills NJ;   \n",
       "2 2014-07-01 08:00:00                    60 Glenmore Ave., BK NY;   \n",
       "3 2014-07-01 09:00:00                     128 East 31 St., BK NY;   \n",
       "4 2014-07-01 09:30:00                139-39 35 Ave., Flushing NY;   \n",
       "\n",
       "                                        Drop_Address  Company  \n",
       "0                         1 Brookdale Plaza, BK NY;   Federal  \n",
       "1  John F Kennedy International Airport, vitona A...  Federal  \n",
       "2                        2171 Nostrand Ave., BK NY;   Federal  \n",
       "3                              369 93rd St., BK NY;   Federal  \n",
       "4                               La Guardia Airport;   Federal  "
      ]
     },
     "execution_count": 24,
     "metadata": {},
     "output_type": "execute_result"
    }
   ],
   "source": [
    "df_federal.head()"
   ]
  },
  {
   "cell_type": "code",
   "execution_count": 25,
   "metadata": {},
   "outputs": [
    {
     "data": {
      "text/html": [
       "<div>\n",
       "<style scoped>\n",
       "    .dataframe tbody tr th:only-of-type {\n",
       "        vertical-align: middle;\n",
       "    }\n",
       "\n",
       "    .dataframe tbody tr th {\n",
       "        vertical-align: top;\n",
       "    }\n",
       "\n",
       "    .dataframe thead th {\n",
       "        text-align: right;\n",
       "    }\n",
       "</style>\n",
       "<table border=\"1\" class=\"dataframe\">\n",
       "  <thead>\n",
       "    <tr style=\"text-align: right;\">\n",
       "      <th></th>\n",
       "      <th>Date/Time</th>\n",
       "      <th>Time</th>\n",
       "      <th>PU_Address</th>\n",
       "    </tr>\n",
       "  </thead>\n",
       "  <tbody>\n",
       "    <tr>\n",
       "      <th>0</th>\n",
       "      <td>7/1/2014</td>\n",
       "      <td>12:00:00 AM</td>\n",
       "      <td>2396 Valentine Ave Fordham, BX</td>\n",
       "    </tr>\n",
       "    <tr>\n",
       "      <th>1</th>\n",
       "      <td>7/1/2014</td>\n",
       "      <td>12:01:00 AM</td>\n",
       "      <td>1859 Walton Ave Morris Heights, BX</td>\n",
       "    </tr>\n",
       "    <tr>\n",
       "      <th>2</th>\n",
       "      <td>7/1/2014</td>\n",
       "      <td>12:02:00 AM</td>\n",
       "      <td>2431 Jerome Ave Jerome, BX</td>\n",
       "    </tr>\n",
       "    <tr>\n",
       "      <th>3</th>\n",
       "      <td>7/1/2014</td>\n",
       "      <td>12:05:00 AM</td>\n",
       "      <td>3044 Valentine Ave Fordham, BX</td>\n",
       "    </tr>\n",
       "    <tr>\n",
       "      <th>4</th>\n",
       "      <td>7/1/2014</td>\n",
       "      <td>12:05:00 AM</td>\n",
       "      <td>1085 Nelson Ave High Bridge, BX</td>\n",
       "    </tr>\n",
       "  </tbody>\n",
       "</table>\n",
       "</div>"
      ],
      "text/plain": [
       "  Date/Time         Time                           PU_Address\n",
       "0  7/1/2014  12:00:00 AM       2396 Valentine Ave Fordham, BX\n",
       "1  7/1/2014  12:01:00 AM   1859 Walton Ave Morris Heights, BX\n",
       "2  7/1/2014  12:02:00 AM           2431 Jerome Ave Jerome, BX\n",
       "3  7/1/2014  12:05:00 AM       3044 Valentine Ave Fordham, BX\n",
       "4  7/1/2014  12:05:00 AM      1085 Nelson Ave High Bridge, BX"
      ]
     },
     "execution_count": 25,
     "metadata": {},
     "output_type": "execute_result"
    }
   ],
   "source": [
    "df_diplo.head()"
   ]
  },
  {
   "cell_type": "code",
   "execution_count": 26,
   "metadata": {},
   "outputs": [],
   "source": [
    "df_diplo['Date/Time'] = df_diplo['Date/Time'].astype(str)+ df_diplo['Time'].astype(str)\n",
    "df_diplo['Date/Time'] = df_diplo['Date/Time'].apply(lambda x : str(x).replace(\" \", \"\").replace(\"AM\", \"\").replace(\"PM\",\"\"))\n",
    "df_diplo['Date/Time'] = pd.to_datetime(df_diplo['Date/Time'], format=\"%m/%d/%Y%H:%M:%S\" )\n",
    "df_diplo.drop('Time',axis=1, inplace=True)\n",
    "df_diplo['Company'] = \"Diplo\"\n",
    "df_diplo.columns = ['Date/Time', 'Pick_Address', 'Company']"
   ]
  },
  {
   "cell_type": "code",
   "execution_count": 27,
   "metadata": {},
   "outputs": [
    {
     "data": {
      "text/html": [
       "<div>\n",
       "<style scoped>\n",
       "    .dataframe tbody tr th:only-of-type {\n",
       "        vertical-align: middle;\n",
       "    }\n",
       "\n",
       "    .dataframe tbody tr th {\n",
       "        vertical-align: top;\n",
       "    }\n",
       "\n",
       "    .dataframe thead th {\n",
       "        text-align: right;\n",
       "    }\n",
       "</style>\n",
       "<table border=\"1\" class=\"dataframe\">\n",
       "  <thead>\n",
       "    <tr style=\"text-align: right;\">\n",
       "      <th></th>\n",
       "      <th>Date/Time</th>\n",
       "      <th>Pick_Address</th>\n",
       "      <th>Company</th>\n",
       "    </tr>\n",
       "  </thead>\n",
       "  <tbody>\n",
       "    <tr>\n",
       "      <th>0</th>\n",
       "      <td>2014-07-01 12:00:00</td>\n",
       "      <td>2396 Valentine Ave Fordham, BX</td>\n",
       "      <td>Diplo</td>\n",
       "    </tr>\n",
       "    <tr>\n",
       "      <th>1</th>\n",
       "      <td>2014-07-01 12:01:00</td>\n",
       "      <td>1859 Walton Ave Morris Heights, BX</td>\n",
       "      <td>Diplo</td>\n",
       "    </tr>\n",
       "    <tr>\n",
       "      <th>2</th>\n",
       "      <td>2014-07-01 12:02:00</td>\n",
       "      <td>2431 Jerome Ave Jerome, BX</td>\n",
       "      <td>Diplo</td>\n",
       "    </tr>\n",
       "    <tr>\n",
       "      <th>3</th>\n",
       "      <td>2014-07-01 12:05:00</td>\n",
       "      <td>3044 Valentine Ave Fordham, BX</td>\n",
       "      <td>Diplo</td>\n",
       "    </tr>\n",
       "    <tr>\n",
       "      <th>4</th>\n",
       "      <td>2014-07-01 12:05:00</td>\n",
       "      <td>1085 Nelson Ave High Bridge, BX</td>\n",
       "      <td>Diplo</td>\n",
       "    </tr>\n",
       "  </tbody>\n",
       "</table>\n",
       "</div>"
      ],
      "text/plain": [
       "            Date/Time                         Pick_Address Company\n",
       "0 2014-07-01 12:00:00       2396 Valentine Ave Fordham, BX   Diplo\n",
       "1 2014-07-01 12:01:00   1859 Walton Ave Morris Heights, BX   Diplo\n",
       "2 2014-07-01 12:02:00           2431 Jerome Ave Jerome, BX   Diplo\n",
       "3 2014-07-01 12:05:00       3044 Valentine Ave Fordham, BX   Diplo\n",
       "4 2014-07-01 12:05:00      1085 Nelson Ave High Bridge, BX   Diplo"
      ]
     },
     "execution_count": 27,
     "metadata": {},
     "output_type": "execute_result"
    }
   ],
   "source": [
    "df_diplo.head()"
   ]
  },
  {
   "cell_type": "code",
   "execution_count": null,
   "metadata": {},
   "outputs": [],
   "source": []
  },
  {
   "cell_type": "code",
   "execution_count": null,
   "metadata": {},
   "outputs": [],
   "source": []
  },
  {
   "cell_type": "code",
   "execution_count": 28,
   "metadata": {},
   "outputs": [
    {
     "data": {
      "text/html": [
       "<div>\n",
       "<style scoped>\n",
       "    .dataframe tbody tr th:only-of-type {\n",
       "        vertical-align: middle;\n",
       "    }\n",
       "\n",
       "    .dataframe tbody tr th {\n",
       "        vertical-align: top;\n",
       "    }\n",
       "\n",
       "    .dataframe thead th {\n",
       "        text-align: right;\n",
       "    }\n",
       "</style>\n",
       "<table border=\"1\" class=\"dataframe\">\n",
       "  <thead>\n",
       "    <tr style=\"text-align: right;\">\n",
       "      <th></th>\n",
       "      <th>Date/Time</th>\n",
       "      <th>TIME</th>\n",
       "      <th>PICK UP ADDRESS</th>\n",
       "      <th>Unnamed: 3</th>\n",
       "      <th>Unnamed: 4</th>\n",
       "      <th>Unnamed: 5</th>\n",
       "    </tr>\n",
       "  </thead>\n",
       "  <tbody>\n",
       "    <tr>\n",
       "      <th>0</th>\n",
       "      <td>7/1/2014</td>\n",
       "      <td>12:00:00 AM</td>\n",
       "      <td>874 E 139th St Mott Haven, BX</td>\n",
       "      <td>NaN</td>\n",
       "      <td>NaN</td>\n",
       "      <td>NaN</td>\n",
       "    </tr>\n",
       "    <tr>\n",
       "      <th>1</th>\n",
       "      <td>7/1/2014</td>\n",
       "      <td>12:01:00 AM</td>\n",
       "      <td>628 E 141st St Mott Haven, BX</td>\n",
       "      <td>NaN</td>\n",
       "      <td>NaN</td>\n",
       "      <td>NaN</td>\n",
       "    </tr>\n",
       "    <tr>\n",
       "      <th>2</th>\n",
       "      <td>7/1/2014</td>\n",
       "      <td>12:01:00 AM</td>\n",
       "      <td>601 E 156th St South Bronx, BX</td>\n",
       "      <td>NaN</td>\n",
       "      <td>NaN</td>\n",
       "      <td>NaN</td>\n",
       "    </tr>\n",
       "    <tr>\n",
       "      <th>3</th>\n",
       "      <td>7/1/2014</td>\n",
       "      <td>12:01:00 AM</td>\n",
       "      <td>708 E 138th St Mott Haven, BX</td>\n",
       "      <td>NaN</td>\n",
       "      <td>NaN</td>\n",
       "      <td>NaN</td>\n",
       "    </tr>\n",
       "    <tr>\n",
       "      <th>4</th>\n",
       "      <td>7/1/2014</td>\n",
       "      <td>12:02:00 AM</td>\n",
       "      <td>700 E 140th St Mott Haven, BX</td>\n",
       "      <td>NaN</td>\n",
       "      <td>NaN</td>\n",
       "      <td>NaN</td>\n",
       "    </tr>\n",
       "  </tbody>\n",
       "</table>\n",
       "</div>"
      ],
      "text/plain": [
       "  Date/Time         TIME                  PICK UP ADDRESS  Unnamed: 3  \\\n",
       "0  7/1/2014  12:00:00 AM    874 E 139th St Mott Haven, BX         NaN   \n",
       "1  7/1/2014  12:01:00 AM    628 E 141st St Mott Haven, BX         NaN   \n",
       "2  7/1/2014  12:01:00 AM   601 E 156th St South Bronx, BX         NaN   \n",
       "3  7/1/2014  12:01:00 AM    708 E 138th St Mott Haven, BX         NaN   \n",
       "4  7/1/2014  12:02:00 AM    700 E 140th St Mott Haven, BX         NaN   \n",
       "\n",
       "   Unnamed: 4  Unnamed: 5  \n",
       "0         NaN         NaN  \n",
       "1         NaN         NaN  \n",
       "2         NaN         NaN  \n",
       "3         NaN         NaN  \n",
       "4         NaN         NaN  "
      ]
     },
     "execution_count": 28,
     "metadata": {},
     "output_type": "execute_result"
    }
   ],
   "source": [
    "df_american.head()"
   ]
  },
  {
   "cell_type": "code",
   "execution_count": 29,
   "metadata": {},
   "outputs": [],
   "source": [
    "df_american.drop(columns=['Unnamed: 3', 'Unnamed: 4', 'Unnamed: 5'], inplace=True)\n",
    "df_american['Date/Time'] = df_american['Date/Time'].astype(str)+ df_american['TIME'].astype(str)\n",
    "df_american['Date/Time'] = df_american['Date/Time'].apply(lambda x : str(x).replace(\" \", \"\").replace(\"AM\", \"\").replace(\"PM\",\"\"))\n",
    "df_american['Date/Time'] = pd.to_datetime(df_american['Date/Time'], format=\"%m/%d/%Y%H:%M:%S\" )\n",
    "df_american.drop('TIME',axis=1, inplace=True)\n",
    "df_american['Company'] = \"American\"\n",
    "df_american.columns = ['Date/Time', 'Pick_Address', 'Company']"
   ]
  },
  {
   "cell_type": "code",
   "execution_count": 30,
   "metadata": {},
   "outputs": [
    {
     "data": {
      "text/html": [
       "<div>\n",
       "<style scoped>\n",
       "    .dataframe tbody tr th:only-of-type {\n",
       "        vertical-align: middle;\n",
       "    }\n",
       "\n",
       "    .dataframe tbody tr th {\n",
       "        vertical-align: top;\n",
       "    }\n",
       "\n",
       "    .dataframe thead th {\n",
       "        text-align: right;\n",
       "    }\n",
       "</style>\n",
       "<table border=\"1\" class=\"dataframe\">\n",
       "  <thead>\n",
       "    <tr style=\"text-align: right;\">\n",
       "      <th></th>\n",
       "      <th>Date/Time</th>\n",
       "      <th>Pick_Address</th>\n",
       "      <th>Company</th>\n",
       "    </tr>\n",
       "  </thead>\n",
       "  <tbody>\n",
       "    <tr>\n",
       "      <th>0</th>\n",
       "      <td>2014-07-01 12:00:00</td>\n",
       "      <td>874 E 139th St Mott Haven, BX</td>\n",
       "      <td>American</td>\n",
       "    </tr>\n",
       "    <tr>\n",
       "      <th>1</th>\n",
       "      <td>2014-07-01 12:01:00</td>\n",
       "      <td>628 E 141st St Mott Haven, BX</td>\n",
       "      <td>American</td>\n",
       "    </tr>\n",
       "    <tr>\n",
       "      <th>2</th>\n",
       "      <td>2014-07-01 12:01:00</td>\n",
       "      <td>601 E 156th St South Bronx, BX</td>\n",
       "      <td>American</td>\n",
       "    </tr>\n",
       "    <tr>\n",
       "      <th>3</th>\n",
       "      <td>2014-07-01 12:01:00</td>\n",
       "      <td>708 E 138th St Mott Haven, BX</td>\n",
       "      <td>American</td>\n",
       "    </tr>\n",
       "    <tr>\n",
       "      <th>4</th>\n",
       "      <td>2014-07-01 12:02:00</td>\n",
       "      <td>700 E 140th St Mott Haven, BX</td>\n",
       "      <td>American</td>\n",
       "    </tr>\n",
       "  </tbody>\n",
       "</table>\n",
       "</div>"
      ],
      "text/plain": [
       "            Date/Time                     Pick_Address   Company\n",
       "0 2014-07-01 12:00:00    874 E 139th St Mott Haven, BX  American\n",
       "1 2014-07-01 12:01:00    628 E 141st St Mott Haven, BX  American\n",
       "2 2014-07-01 12:01:00   601 E 156th St South Bronx, BX  American\n",
       "3 2014-07-01 12:01:00    708 E 138th St Mott Haven, BX  American\n",
       "4 2014-07-01 12:02:00    700 E 140th St Mott Haven, BX  American"
      ]
     },
     "execution_count": 30,
     "metadata": {},
     "output_type": "execute_result"
    }
   ],
   "source": [
    "df_american.head()"
   ]
  },
  {
   "cell_type": "code",
   "execution_count": null,
   "metadata": {},
   "outputs": [],
   "source": []
  },
  {
   "cell_type": "code",
   "execution_count": 31,
   "metadata": {},
   "outputs": [
    {
     "data": {
      "text/html": [
       "<div>\n",
       "<style scoped>\n",
       "    .dataframe tbody tr th:only-of-type {\n",
       "        vertical-align: middle;\n",
       "    }\n",
       "\n",
       "    .dataframe tbody tr th {\n",
       "        vertical-align: top;\n",
       "    }\n",
       "\n",
       "    .dataframe thead th {\n",
       "        text-align: right;\n",
       "    }\n",
       "</style>\n",
       "<table border=\"1\" class=\"dataframe\">\n",
       "  <thead>\n",
       "    <tr style=\"text-align: right;\">\n",
       "      <th></th>\n",
       "      <th>Date/Time</th>\n",
       "      <th>Time</th>\n",
       "      <th>State</th>\n",
       "      <th>PuFrom</th>\n",
       "      <th>Address</th>\n",
       "      <th>Street</th>\n",
       "    </tr>\n",
       "  </thead>\n",
       "  <tbody>\n",
       "    <tr>\n",
       "      <th>0</th>\n",
       "      <td>2014.07.06</td>\n",
       "      <td>14:30</td>\n",
       "      <td>NY                                            ...</td>\n",
       "      <td>MANHATTAN</td>\n",
       "      <td>50</td>\n",
       "      <td>MURRAY ST</td>\n",
       "    </tr>\n",
       "    <tr>\n",
       "      <th>1</th>\n",
       "      <td>2014.07.04</td>\n",
       "      <td>7:15</td>\n",
       "      <td>NY                                            ...</td>\n",
       "      <td>MANHATTAN</td>\n",
       "      <td>143</td>\n",
       "      <td>AVENUE B</td>\n",
       "    </tr>\n",
       "    <tr>\n",
       "      <th>2</th>\n",
       "      <td>2014.07.05</td>\n",
       "      <td>5:45</td>\n",
       "      <td>NY                                            ...</td>\n",
       "      <td>MANHATTAN</td>\n",
       "      <td>125</td>\n",
       "      <td>CHRISTOPHER ST</td>\n",
       "    </tr>\n",
       "    <tr>\n",
       "      <th>3</th>\n",
       "      <td>2014.07.06</td>\n",
       "      <td>4:30</td>\n",
       "      <td>NY                                            ...</td>\n",
       "      <td>MANHATTAN</td>\n",
       "      <td>217</td>\n",
       "      <td>E 7 ST</td>\n",
       "    </tr>\n",
       "    <tr>\n",
       "      <th>4</th>\n",
       "      <td>2014.07.05</td>\n",
       "      <td>7:45</td>\n",
       "      <td>NY                                            ...</td>\n",
       "      <td>MANHATTAN</td>\n",
       "      <td>521</td>\n",
       "      <td>W 26 ST</td>\n",
       "    </tr>\n",
       "  </tbody>\n",
       "</table>\n",
       "</div>"
      ],
      "text/plain": [
       "    Date/Time   Time                                              State  \\\n",
       "0  2014.07.06  14:30  NY                                            ...   \n",
       "1  2014.07.04   7:15  NY                                            ...   \n",
       "2  2014.07.05   5:45  NY                                            ...   \n",
       "3  2014.07.06   4:30  NY                                            ...   \n",
       "4  2014.07.05   7:45  NY                                            ...   \n",
       "\n",
       "      PuFrom Address                Street  \n",
       "0  MANHATTAN      50  MURRAY ST             \n",
       "1  MANHATTAN     143  AVENUE B              \n",
       "2  MANHATTAN     125  CHRISTOPHER ST        \n",
       "3  MANHATTAN     217  E 7 ST                \n",
       "4  MANHATTAN     521  W 26 ST               "
      ]
     },
     "execution_count": 31,
     "metadata": {},
     "output_type": "execute_result"
    }
   ],
   "source": [
    "df_dial.head()"
   ]
  },
  {
   "cell_type": "code",
   "execution_count": 32,
   "metadata": {},
   "outputs": [],
   "source": [
    "df_dial['Pick_Address'] = df_dial['Address'] + df_dial['Street'] + df_dial['PuFrom'] +df_dial['State']\n",
    "df_dial.drop(['Address', 'Street', 'PuFrom', 'State'], axis=1, inplace=True)\n",
    "df_dial['Date/Time'] = df_dial['Date/Time'].astype(str)+ df_dial['Time'].astype(str)\n",
    "df_dial['Date/Time'] = df_dial['Date/Time'].apply(lambda x : str(x).replace(\" \", \"\"))\n",
    "df_dial.drop('Time', axis=1, inplace=True)\n",
    "df_dial['Date/Time'] = pd.to_datetime(df_dial['Date/Time'], format=\"%Y.%m.%d%H:%M\" )\n",
    "df_dial['Company'] = 'Dial'"
   ]
  },
  {
   "cell_type": "code",
   "execution_count": 33,
   "metadata": {},
   "outputs": [
    {
     "data": {
      "text/html": [
       "<div>\n",
       "<style scoped>\n",
       "    .dataframe tbody tr th:only-of-type {\n",
       "        vertical-align: middle;\n",
       "    }\n",
       "\n",
       "    .dataframe tbody tr th {\n",
       "        vertical-align: top;\n",
       "    }\n",
       "\n",
       "    .dataframe thead th {\n",
       "        text-align: right;\n",
       "    }\n",
       "</style>\n",
       "<table border=\"1\" class=\"dataframe\">\n",
       "  <thead>\n",
       "    <tr style=\"text-align: right;\">\n",
       "      <th></th>\n",
       "      <th>Date/Time</th>\n",
       "      <th>Pick_Address</th>\n",
       "      <th>Company</th>\n",
       "    </tr>\n",
       "  </thead>\n",
       "  <tbody>\n",
       "    <tr>\n",
       "      <th>0</th>\n",
       "      <td>2014-07-06 14:30:00</td>\n",
       "      <td>50MURRAY ST           MANHATTANNY             ...</td>\n",
       "      <td>Dial</td>\n",
       "    </tr>\n",
       "    <tr>\n",
       "      <th>1</th>\n",
       "      <td>2014-07-04 07:15:00</td>\n",
       "      <td>143AVENUE B            MANHATTANNY            ...</td>\n",
       "      <td>Dial</td>\n",
       "    </tr>\n",
       "    <tr>\n",
       "      <th>2</th>\n",
       "      <td>2014-07-05 05:45:00</td>\n",
       "      <td>125CHRISTOPHER ST      MANHATTANNY            ...</td>\n",
       "      <td>Dial</td>\n",
       "    </tr>\n",
       "    <tr>\n",
       "      <th>3</th>\n",
       "      <td>2014-07-06 04:30:00</td>\n",
       "      <td>217E 7 ST              MANHATTANNY            ...</td>\n",
       "      <td>Dial</td>\n",
       "    </tr>\n",
       "    <tr>\n",
       "      <th>4</th>\n",
       "      <td>2014-07-05 07:45:00</td>\n",
       "      <td>521W 26 ST             MANHATTANNY            ...</td>\n",
       "      <td>Dial</td>\n",
       "    </tr>\n",
       "  </tbody>\n",
       "</table>\n",
       "</div>"
      ],
      "text/plain": [
       "            Date/Time                                       Pick_Address  \\\n",
       "0 2014-07-06 14:30:00  50MURRAY ST           MANHATTANNY             ...   \n",
       "1 2014-07-04 07:15:00  143AVENUE B            MANHATTANNY            ...   \n",
       "2 2014-07-05 05:45:00  125CHRISTOPHER ST      MANHATTANNY            ...   \n",
       "3 2014-07-06 04:30:00  217E 7 ST              MANHATTANNY            ...   \n",
       "4 2014-07-05 07:45:00  521W 26 ST             MANHATTANNY            ...   \n",
       "\n",
       "  Company  \n",
       "0    Dial  \n",
       "1    Dial  \n",
       "2    Dial  \n",
       "3    Dial  \n",
       "4    Dial  "
      ]
     },
     "execution_count": 33,
     "metadata": {},
     "output_type": "execute_result"
    }
   ],
   "source": [
    "df_dial.head()"
   ]
  },
  {
   "cell_type": "code",
   "execution_count": null,
   "metadata": {},
   "outputs": [],
   "source": []
  },
  {
   "cell_type": "code",
   "execution_count": 34,
   "metadata": {},
   "outputs": [
    {
     "data": {
      "text/html": [
       "<div>\n",
       "<style scoped>\n",
       "    .dataframe tbody tr th:only-of-type {\n",
       "        vertical-align: middle;\n",
       "    }\n",
       "\n",
       "    .dataframe tbody tr th {\n",
       "        vertical-align: top;\n",
       "    }\n",
       "\n",
       "    .dataframe thead th {\n",
       "        text-align: right;\n",
       "    }\n",
       "</style>\n",
       "<table border=\"1\" class=\"dataframe\">\n",
       "  <thead>\n",
       "    <tr style=\"text-align: right;\">\n",
       "      <th></th>\n",
       "      <th>Base Number</th>\n",
       "      <th>Base Name</th>\n",
       "      <th>Date/Time</th>\n",
       "      <th>Number of Trips</th>\n",
       "      <th>Number of Vehicles</th>\n",
       "    </tr>\n",
       "  </thead>\n",
       "  <tbody>\n",
       "    <tr>\n",
       "      <th>0</th>\n",
       "      <td>B00013</td>\n",
       "      <td>LOVE CORP CAR INC</td>\n",
       "      <td>01/01/2015</td>\n",
       "      <td>26</td>\n",
       "      <td>17</td>\n",
       "    </tr>\n",
       "    <tr>\n",
       "      <th>1</th>\n",
       "      <td>B00014</td>\n",
       "      <td>NY ONE CORP CAR INC</td>\n",
       "      <td>01/01/2015</td>\n",
       "      <td>45</td>\n",
       "      <td>24</td>\n",
       "    </tr>\n",
       "    <tr>\n",
       "      <th>2</th>\n",
       "      <td>B00029</td>\n",
       "      <td>COMMUNITY CAR SVC CORP</td>\n",
       "      <td>01/01/2015</td>\n",
       "      <td>731</td>\n",
       "      <td>36</td>\n",
       "    </tr>\n",
       "    <tr>\n",
       "      <th>3</th>\n",
       "      <td>B00053</td>\n",
       "      <td>CHARGE AND RIDE INC</td>\n",
       "      <td>01/01/2015</td>\n",
       "      <td>10</td>\n",
       "      <td>9</td>\n",
       "    </tr>\n",
       "    <tr>\n",
       "      <th>4</th>\n",
       "      <td>B00095</td>\n",
       "      <td>LIBERTY CAR SERVICE INC.</td>\n",
       "      <td>01/01/2015</td>\n",
       "      <td>814</td>\n",
       "      <td>62</td>\n",
       "    </tr>\n",
       "  </tbody>\n",
       "</table>\n",
       "</div>"
      ],
      "text/plain": [
       "  Base Number                 Base Name   Date/Time Number of Trips  \\\n",
       "0      B00013         LOVE CORP CAR INC  01/01/2015             26    \n",
       "1      B00014       NY ONE CORP CAR INC  01/01/2015             45    \n",
       "2      B00029    COMMUNITY CAR SVC CORP  01/01/2015            731    \n",
       "3      B00053       CHARGE AND RIDE INC  01/01/2015             10    \n",
       "4      B00095  LIBERTY CAR SERVICE INC.  01/01/2015            814    \n",
       "\n",
       "  Number of Vehicles  \n",
       "0                17   \n",
       "1                24   \n",
       "2                36   \n",
       "3                 9   \n",
       "4                62   "
      ]
     },
     "execution_count": 34,
     "metadata": {},
     "output_type": "execute_result"
    }
   ],
   "source": [
    "df_fhv.head()"
   ]
  },
  {
   "cell_type": "code",
   "execution_count": 35,
   "metadata": {},
   "outputs": [],
   "source": [
    "df_fhv['Date/Time'] = pd.to_datetime(df_fhv['Date/Time'], format=\"%m/%d/%Y\" )\n",
    "df_fhv['Company'] = 'FHV'\n",
    "df_fhv.rename({'Base Number' : 'Base'}, axis=1, inplace=True)"
   ]
  },
  {
   "cell_type": "code",
   "execution_count": 36,
   "metadata": {},
   "outputs": [
    {
     "data": {
      "text/html": [
       "<div>\n",
       "<style scoped>\n",
       "    .dataframe tbody tr th:only-of-type {\n",
       "        vertical-align: middle;\n",
       "    }\n",
       "\n",
       "    .dataframe tbody tr th {\n",
       "        vertical-align: top;\n",
       "    }\n",
       "\n",
       "    .dataframe thead th {\n",
       "        text-align: right;\n",
       "    }\n",
       "</style>\n",
       "<table border=\"1\" class=\"dataframe\">\n",
       "  <thead>\n",
       "    <tr style=\"text-align: right;\">\n",
       "      <th></th>\n",
       "      <th>Base</th>\n",
       "      <th>Base Name</th>\n",
       "      <th>Date/Time</th>\n",
       "      <th>Number of Trips</th>\n",
       "      <th>Number of Vehicles</th>\n",
       "      <th>Company</th>\n",
       "    </tr>\n",
       "  </thead>\n",
       "  <tbody>\n",
       "    <tr>\n",
       "      <th>0</th>\n",
       "      <td>B00013</td>\n",
       "      <td>LOVE CORP CAR INC</td>\n",
       "      <td>2015-01-01</td>\n",
       "      <td>26</td>\n",
       "      <td>17</td>\n",
       "      <td>FHV</td>\n",
       "    </tr>\n",
       "    <tr>\n",
       "      <th>1</th>\n",
       "      <td>B00014</td>\n",
       "      <td>NY ONE CORP CAR INC</td>\n",
       "      <td>2015-01-01</td>\n",
       "      <td>45</td>\n",
       "      <td>24</td>\n",
       "      <td>FHV</td>\n",
       "    </tr>\n",
       "    <tr>\n",
       "      <th>2</th>\n",
       "      <td>B00029</td>\n",
       "      <td>COMMUNITY CAR SVC CORP</td>\n",
       "      <td>2015-01-01</td>\n",
       "      <td>731</td>\n",
       "      <td>36</td>\n",
       "      <td>FHV</td>\n",
       "    </tr>\n",
       "    <tr>\n",
       "      <th>3</th>\n",
       "      <td>B00053</td>\n",
       "      <td>CHARGE AND RIDE INC</td>\n",
       "      <td>2015-01-01</td>\n",
       "      <td>10</td>\n",
       "      <td>9</td>\n",
       "      <td>FHV</td>\n",
       "    </tr>\n",
       "    <tr>\n",
       "      <th>4</th>\n",
       "      <td>B00095</td>\n",
       "      <td>LIBERTY CAR SERVICE INC.</td>\n",
       "      <td>2015-01-01</td>\n",
       "      <td>814</td>\n",
       "      <td>62</td>\n",
       "      <td>FHV</td>\n",
       "    </tr>\n",
       "  </tbody>\n",
       "</table>\n",
       "</div>"
      ],
      "text/plain": [
       "     Base                 Base Name  Date/Time Number of Trips  \\\n",
       "0  B00013         LOVE CORP CAR INC 2015-01-01             26    \n",
       "1  B00014       NY ONE CORP CAR INC 2015-01-01             45    \n",
       "2  B00029    COMMUNITY CAR SVC CORP 2015-01-01            731    \n",
       "3  B00053       CHARGE AND RIDE INC 2015-01-01             10    \n",
       "4  B00095  LIBERTY CAR SERVICE INC. 2015-01-01            814    \n",
       "\n",
       "  Number of Vehicles Company  \n",
       "0                17      FHV  \n",
       "1                24      FHV  \n",
       "2                36      FHV  \n",
       "3                 9      FHV  \n",
       "4                62      FHV  "
      ]
     },
     "execution_count": 36,
     "metadata": {},
     "output_type": "execute_result"
    }
   ],
   "source": [
    "df_fhv.head()"
   ]
  },
  {
   "cell_type": "code",
   "execution_count": null,
   "metadata": {},
   "outputs": [],
   "source": []
  },
  {
   "cell_type": "code",
   "execution_count": 37,
   "metadata": {},
   "outputs": [
    {
     "data": {
      "text/html": [
       "<div>\n",
       "<style scoped>\n",
       "    .dataframe tbody tr th:only-of-type {\n",
       "        vertical-align: middle;\n",
       "    }\n",
       "\n",
       "    .dataframe tbody tr th {\n",
       "        vertical-align: top;\n",
       "    }\n",
       "\n",
       "    .dataframe thead th {\n",
       "        text-align: right;\n",
       "    }\n",
       "</style>\n",
       "<table border=\"1\" class=\"dataframe\">\n",
       "  <thead>\n",
       "    <tr style=\"text-align: right;\">\n",
       "      <th></th>\n",
       "      <th>Date/Time</th>\n",
       "      <th>Time</th>\n",
       "      <th>PU_Adress</th>\n",
       "      <th>Base_No</th>\n",
       "    </tr>\n",
       "  </thead>\n",
       "  <tbody>\n",
       "    <tr>\n",
       "      <th>0</th>\n",
       "      <td>7/1/2014</td>\n",
       "      <td>0:00</td>\n",
       "      <td>260 W 44 St NYC</td>\n",
       "      <td>B00256</td>\n",
       "    </tr>\n",
       "    <tr>\n",
       "      <th>1</th>\n",
       "      <td>7/1/2014</td>\n",
       "      <td>0:00</td>\n",
       "      <td>125 W 29 St Nyc</td>\n",
       "      <td>B00256</td>\n",
       "    </tr>\n",
       "    <tr>\n",
       "      <th>2</th>\n",
       "      <td>7/1/2014</td>\n",
       "      <td>0:00</td>\n",
       "      <td>141 W 28 St Nyc</td>\n",
       "      <td>B00256</td>\n",
       "    </tr>\n",
       "    <tr>\n",
       "      <th>3</th>\n",
       "      <td>7/1/2014</td>\n",
       "      <td>0:01</td>\n",
       "      <td>EWR</td>\n",
       "      <td>B00256</td>\n",
       "    </tr>\n",
       "    <tr>\n",
       "      <th>4</th>\n",
       "      <td>7/1/2014</td>\n",
       "      <td>0:07</td>\n",
       "      <td>JFK</td>\n",
       "      <td>B00256</td>\n",
       "    </tr>\n",
       "  </tbody>\n",
       "</table>\n",
       "</div>"
      ],
      "text/plain": [
       "  Date/Time  Time        PU_Adress Base_No\n",
       "0  7/1/2014  0:00  260 W 44 St NYC  B00256\n",
       "1  7/1/2014  0:00  125 W 29 St Nyc  B00256\n",
       "2  7/1/2014  0:00  141 W 28 St Nyc  B00256\n",
       "3  7/1/2014  0:01              EWR  B00256\n",
       "4  7/1/2014  0:07              JFK  B00256"
      ]
     },
     "execution_count": 37,
     "metadata": {},
     "output_type": "execute_result"
    }
   ],
   "source": [
    "df_carmel.head()"
   ]
  },
  {
   "cell_type": "code",
   "execution_count": 38,
   "metadata": {},
   "outputs": [],
   "source": [
    "df_carmel['Date/Time'] = df_carmel['Date/Time'].astype(str)+ df_carmel['Time'].astype(str)\n",
    "df_carmel['Date/Time'] = df_carmel['Date/Time'].apply(lambda x : str(x).replace(\" \", \"\"))\n",
    "df_carmel.rename({'Base_No' : 'Base', 'PU_Adress' : 'Pick_Address'}, axis=1, inplace=True)\n",
    "df_carmel.drop('Time', axis=1, inplace=True)\n",
    "df_carmel['Date/Time'] = pd.to_datetime(df_carmel['Date/Time'], format=\"%m/%d/%Y%H:%M\")\n",
    "df_carmel['Company'] = 'Carmel'"
   ]
  },
  {
   "cell_type": "code",
   "execution_count": 39,
   "metadata": {},
   "outputs": [
    {
     "data": {
      "text/html": [
       "<div>\n",
       "<style scoped>\n",
       "    .dataframe tbody tr th:only-of-type {\n",
       "        vertical-align: middle;\n",
       "    }\n",
       "\n",
       "    .dataframe tbody tr th {\n",
       "        vertical-align: top;\n",
       "    }\n",
       "\n",
       "    .dataframe thead th {\n",
       "        text-align: right;\n",
       "    }\n",
       "</style>\n",
       "<table border=\"1\" class=\"dataframe\">\n",
       "  <thead>\n",
       "    <tr style=\"text-align: right;\">\n",
       "      <th></th>\n",
       "      <th>Date/Time</th>\n",
       "      <th>Pick_Address</th>\n",
       "      <th>Base</th>\n",
       "      <th>Company</th>\n",
       "    </tr>\n",
       "  </thead>\n",
       "  <tbody>\n",
       "    <tr>\n",
       "      <th>0</th>\n",
       "      <td>2014-07-01 00:00:00</td>\n",
       "      <td>260 W 44 St NYC</td>\n",
       "      <td>B00256</td>\n",
       "      <td>Carmel</td>\n",
       "    </tr>\n",
       "    <tr>\n",
       "      <th>1</th>\n",
       "      <td>2014-07-01 00:00:00</td>\n",
       "      <td>125 W 29 St Nyc</td>\n",
       "      <td>B00256</td>\n",
       "      <td>Carmel</td>\n",
       "    </tr>\n",
       "    <tr>\n",
       "      <th>2</th>\n",
       "      <td>2014-07-01 00:00:00</td>\n",
       "      <td>141 W 28 St Nyc</td>\n",
       "      <td>B00256</td>\n",
       "      <td>Carmel</td>\n",
       "    </tr>\n",
       "    <tr>\n",
       "      <th>3</th>\n",
       "      <td>2014-07-01 00:01:00</td>\n",
       "      <td>EWR</td>\n",
       "      <td>B00256</td>\n",
       "      <td>Carmel</td>\n",
       "    </tr>\n",
       "    <tr>\n",
       "      <th>4</th>\n",
       "      <td>2014-07-01 00:07:00</td>\n",
       "      <td>JFK</td>\n",
       "      <td>B00256</td>\n",
       "      <td>Carmel</td>\n",
       "    </tr>\n",
       "  </tbody>\n",
       "</table>\n",
       "</div>"
      ],
      "text/plain": [
       "            Date/Time     Pick_Address    Base Company\n",
       "0 2014-07-01 00:00:00  260 W 44 St NYC  B00256  Carmel\n",
       "1 2014-07-01 00:00:00  125 W 29 St Nyc  B00256  Carmel\n",
       "2 2014-07-01 00:00:00  141 W 28 St Nyc  B00256  Carmel\n",
       "3 2014-07-01 00:01:00              EWR  B00256  Carmel\n",
       "4 2014-07-01 00:07:00              JFK  B00256  Carmel"
      ]
     },
     "execution_count": 39,
     "metadata": {},
     "output_type": "execute_result"
    }
   ],
   "source": [
    "df_carmel.head()"
   ]
  },
  {
   "cell_type": "code",
   "execution_count": null,
   "metadata": {},
   "outputs": [],
   "source": []
  },
  {
   "cell_type": "code",
   "execution_count": 40,
   "metadata": {},
   "outputs": [],
   "source": [
    "df_other = pd.DataFrame()"
   ]
  },
  {
   "cell_type": "code",
   "execution_count": 41,
   "metadata": {},
   "outputs": [
    {
     "name": "stderr",
     "output_type": "stream",
     "text": [
      "/Users/shubh/anaconda3/lib/python3.7/site-packages/pandas/core/frame.py:6692: FutureWarning: Sorting because non-concatenation axis is not aligned. A future version\n",
      "of pandas will change to not sort by default.\n",
      "\n",
      "To accept the future behavior, pass 'sort=False'.\n",
      "\n",
      "To retain the current behavior and silence the warning, pass 'sort=True'.\n",
      "\n",
      "  sort=sort)\n"
     ]
    }
   ],
   "source": [
    "df_other = df_other.append(df_skyline)\n",
    "df_other = df_other.append(df_carmel)\n",
    "df_other = df_other.append(df_american)\n",
    "df_other = df_other.append(df_dial)\n",
    "df_other = df_other.append(df_diplo)\n",
    "df_other = df_other.append(df_fhv)\n",
    "df_other = df_other.append(df_federal)\n",
    "df_other = df_other.append(df_first_class)\n",
    "df_other = df_other.append(df_high_class)\n",
    "df_other = df_other.append(df_lyft)\n",
    "df_other = df_other.append(df_prestige)\n",
    "df_other = df_other[['Date/Time', 'Company', 'Pick_Address','Base', 'Lat', 'Lon', 'Drop_Address', 'Base Name', 'Number of Trips', 'Number of Vehicles']]"
   ]
  },
  {
   "cell_type": "code",
   "execution_count": 42,
   "metadata": {},
   "outputs": [
    {
     "data": {
      "text/html": [
       "<div>\n",
       "<style scoped>\n",
       "    .dataframe tbody tr th:only-of-type {\n",
       "        vertical-align: middle;\n",
       "    }\n",
       "\n",
       "    .dataframe tbody tr th {\n",
       "        vertical-align: top;\n",
       "    }\n",
       "\n",
       "    .dataframe thead th {\n",
       "        text-align: right;\n",
       "    }\n",
       "</style>\n",
       "<table border=\"1\" class=\"dataframe\">\n",
       "  <thead>\n",
       "    <tr style=\"text-align: right;\">\n",
       "      <th></th>\n",
       "      <th>Date/Time</th>\n",
       "      <th>Company</th>\n",
       "      <th>Pick_Address</th>\n",
       "      <th>Base</th>\n",
       "      <th>Lat</th>\n",
       "      <th>Lon</th>\n",
       "      <th>Drop_Address</th>\n",
       "      <th>Base Name</th>\n",
       "      <th>Number of Trips</th>\n",
       "      <th>Number of Vehicles</th>\n",
       "    </tr>\n",
       "  </thead>\n",
       "  <tbody>\n",
       "    <tr>\n",
       "      <th>0</th>\n",
       "      <td>2014-07-01 20:27:00</td>\n",
       "      <td>Skyline</td>\n",
       "      <td>622 THIRD AV                     M        ...</td>\n",
       "      <td>NaN</td>\n",
       "      <td>NaN</td>\n",
       "      <td>NaN</td>\n",
       "      <td>NaN</td>\n",
       "      <td>NaN</td>\n",
       "      <td>NaN</td>\n",
       "      <td>NaN</td>\n",
       "    </tr>\n",
       "    <tr>\n",
       "      <th>1</th>\n",
       "      <td>2014-07-01 21:04:00</td>\n",
       "      <td>Skyline</td>\n",
       "      <td>E 77TH ST                       M        ...</td>\n",
       "      <td>NaN</td>\n",
       "      <td>NaN</td>\n",
       "      <td>NaN</td>\n",
       "      <td>NaN</td>\n",
       "      <td>NaN</td>\n",
       "      <td>NaN</td>\n",
       "      <td>NaN</td>\n",
       "    </tr>\n",
       "    <tr>\n",
       "      <th>2</th>\n",
       "      <td>2014-07-01 22:20:00</td>\n",
       "      <td>Skyline</td>\n",
       "      <td>67 WEST PALISADES BLVD          PALISADES ...</td>\n",
       "      <td>NaN</td>\n",
       "      <td>NaN</td>\n",
       "      <td>NaN</td>\n",
       "      <td>NaN</td>\n",
       "      <td>NaN</td>\n",
       "      <td>NaN</td>\n",
       "      <td>NaN</td>\n",
       "    </tr>\n",
       "    <tr>\n",
       "      <th>3</th>\n",
       "      <td>2014-07-01 12:28:00</td>\n",
       "      <td>Skyline</td>\n",
       "      <td>130 MIDDLE NECK RD              SANDS POIN...</td>\n",
       "      <td>NaN</td>\n",
       "      <td>NaN</td>\n",
       "      <td>NaN</td>\n",
       "      <td>NaN</td>\n",
       "      <td>NaN</td>\n",
       "      <td>NaN</td>\n",
       "      <td>NaN</td>\n",
       "    </tr>\n",
       "    <tr>\n",
       "      <th>4</th>\n",
       "      <td>2014-07-01 16:45:00</td>\n",
       "      <td>Skyline</td>\n",
       "      <td>36 E 31ST ST                     M        ...</td>\n",
       "      <td>NaN</td>\n",
       "      <td>NaN</td>\n",
       "      <td>NaN</td>\n",
       "      <td>NaN</td>\n",
       "      <td>NaN</td>\n",
       "      <td>NaN</td>\n",
       "      <td>NaN</td>\n",
       "    </tr>\n",
       "  </tbody>\n",
       "</table>\n",
       "</div>"
      ],
      "text/plain": [
       "            Date/Time  Company  \\\n",
       "0 2014-07-01 20:27:00  Skyline   \n",
       "1 2014-07-01 21:04:00  Skyline   \n",
       "2 2014-07-01 22:20:00  Skyline   \n",
       "3 2014-07-01 12:28:00  Skyline   \n",
       "4 2014-07-01 16:45:00  Skyline   \n",
       "\n",
       "                                        Pick_Address Base  Lat  Lon  \\\n",
       "0      622 THIRD AV                     M        ...  NaN  NaN  NaN   \n",
       "1       E 77TH ST                       M        ...  NaN  NaN  NaN   \n",
       "2      67 WEST PALISADES BLVD          PALISADES ...  NaN  NaN  NaN   \n",
       "3      130 MIDDLE NECK RD              SANDS POIN...  NaN  NaN  NaN   \n",
       "4      36 E 31ST ST                     M        ...  NaN  NaN  NaN   \n",
       "\n",
       "  Drop_Address Base Name Number of Trips Number of Vehicles  \n",
       "0          NaN       NaN             NaN                NaN  \n",
       "1          NaN       NaN             NaN                NaN  \n",
       "2          NaN       NaN             NaN                NaN  \n",
       "3          NaN       NaN             NaN                NaN  \n",
       "4          NaN       NaN             NaN                NaN  "
      ]
     },
     "execution_count": 42,
     "metadata": {},
     "output_type": "execute_result"
    }
   ],
   "source": [
    "df_other.head()"
   ]
  },
  {
   "cell_type": "code",
   "execution_count": 43,
   "metadata": {},
   "outputs": [],
   "source": [
    "df_uber_jan_june.rename(columns={'Pickup_date': 'Date/Time'}, inplace=True)\n",
    "df_uber_jan_june['Date/Time'] = pd.to_datetime(df_uber_jan_june['Date/Time'], format=\"%Y-%m-%d %H:%M:%S\" )\n",
    "df_uber_jan_june.drop('Affiliated_base_num', axis=1, inplace=True)\n",
    "df_uber_jan_june.rename({'Dispatching_base_num' : 'Base'}, axis=1, inplace=True)\n",
    "df_uber_jan_june['Company'] = \"Uber\"\n",
    "df_uber_jan_june.columns = ['Base', 'Date/Time', 'locationID', 'Company']"
   ]
  },
  {
   "cell_type": "code",
   "execution_count": null,
   "metadata": {},
   "outputs": [],
   "source": []
  },
  {
   "cell_type": "code",
   "execution_count": 44,
   "metadata": {},
   "outputs": [],
   "source": [
    "df_uber_jan_feb.rename(columns={'date': 'Date/Time'}, inplace=True)\n",
    "df_uber_jan_feb['Date/Time'] = pd.to_datetime(df_uber_jan_feb['Date/Time'], format=\"%m/%d/%Y\")\n",
    "df_uber_jan_feb.rename({'dispatching_base_number' : 'Base', 'active_vehicles': 'Number of Vehicles', \"trips\": 'Number of Trips'}, axis=1, inplace=True)\n",
    "df_uber_jan_feb['Company'] = 'Uber'\n",
    "df_uber_jan_feb.columns = ['Base', 'Date/Time', 'Number of Vehicles', 'Number of Trips', 'Company']"
   ]
  },
  {
   "cell_type": "code",
   "execution_count": 45,
   "metadata": {},
   "outputs": [],
   "source": [
    "df_uber_2015 = pd.DataFrame()"
   ]
  },
  {
   "cell_type": "code",
   "execution_count": 46,
   "metadata": {},
   "outputs": [],
   "source": [
    "df_uber_2015 = df_uber_2015.append(df_uber_jan_feb)"
   ]
  },
  {
   "cell_type": "code",
   "execution_count": 47,
   "metadata": {},
   "outputs": [],
   "source": [
    "df_uber_2015.sort_values(by='Date/Time', inplace=True)\n",
    "df_uber_2014.sort_values(by='Date/Time', inplace=True)\n",
    "df_other.sort_values(by='Date/Time', inplace=True)"
   ]
  },
  {
   "cell_type": "code",
   "execution_count": 48,
   "metadata": {},
   "outputs": [],
   "source": [
    "df_all = pd.DataFrame()"
   ]
  },
  {
   "cell_type": "code",
   "execution_count": 49,
   "metadata": {},
   "outputs": [
    {
     "name": "stderr",
     "output_type": "stream",
     "text": [
      "/Users/shubh/anaconda3/lib/python3.7/site-packages/ipykernel_launcher.py:1: FutureWarning: Sorting because non-concatenation axis is not aligned. A future version\n",
      "of pandas will change to not sort by default.\n",
      "\n",
      "To accept the future behavior, pass 'sort=False'.\n",
      "\n",
      "To retain the current behavior and silence the warning, pass 'sort=True'.\n",
      "\n",
      "  \"\"\"Entry point for launching an IPython kernel.\n"
     ]
    }
   ],
   "source": [
    "df_all = pd.concat([df_uber_2014, df_uber_2015, df_other], ignore_index=True)"
   ]
  },
  {
   "cell_type": "code",
   "execution_count": null,
   "metadata": {},
   "outputs": [],
   "source": []
  },
  {
   "cell_type": "code",
   "execution_count": 50,
   "metadata": {},
   "outputs": [],
   "source": [
    "df_all = df_all[['Date/Time','Company', 'Base', 'Lat', \n",
    "       'Lon','Pick_Address','Base Name', 'Number of Trips', 'Number of Vehicles', 'Drop_Address']]"
   ]
  },
  {
   "cell_type": "code",
   "execution_count": 51,
   "metadata": {},
   "outputs": [
    {
     "data": {
      "text/html": [
       "<div>\n",
       "<style scoped>\n",
       "    .dataframe tbody tr th:only-of-type {\n",
       "        vertical-align: middle;\n",
       "    }\n",
       "\n",
       "    .dataframe tbody tr th {\n",
       "        vertical-align: top;\n",
       "    }\n",
       "\n",
       "    .dataframe thead th {\n",
       "        text-align: right;\n",
       "    }\n",
       "</style>\n",
       "<table border=\"1\" class=\"dataframe\">\n",
       "  <thead>\n",
       "    <tr style=\"text-align: right;\">\n",
       "      <th></th>\n",
       "      <th>Date/Time</th>\n",
       "      <th>Company</th>\n",
       "      <th>Base</th>\n",
       "      <th>Lat</th>\n",
       "      <th>Lon</th>\n",
       "      <th>Pick_Address</th>\n",
       "      <th>Base Name</th>\n",
       "      <th>Number of Trips</th>\n",
       "      <th>Number of Vehicles</th>\n",
       "      <th>Drop_Address</th>\n",
       "    </tr>\n",
       "  </thead>\n",
       "  <tbody>\n",
       "    <tr>\n",
       "      <th>0</th>\n",
       "      <td>2014-04-01 00:00:00</td>\n",
       "      <td>Uber</td>\n",
       "      <td>B02598</td>\n",
       "      <td>40.7188</td>\n",
       "      <td>-73.9863</td>\n",
       "      <td>NaN</td>\n",
       "      <td>NaN</td>\n",
       "      <td>NaN</td>\n",
       "      <td>NaN</td>\n",
       "      <td>NaN</td>\n",
       "    </tr>\n",
       "    <tr>\n",
       "      <th>1</th>\n",
       "      <td>2014-04-01 00:00:00</td>\n",
       "      <td>Uber</td>\n",
       "      <td>B02682</td>\n",
       "      <td>40.7215</td>\n",
       "      <td>-73.9952</td>\n",
       "      <td>NaN</td>\n",
       "      <td>NaN</td>\n",
       "      <td>NaN</td>\n",
       "      <td>NaN</td>\n",
       "      <td>NaN</td>\n",
       "    </tr>\n",
       "    <tr>\n",
       "      <th>2</th>\n",
       "      <td>2014-04-01 00:00:00</td>\n",
       "      <td>Uber</td>\n",
       "      <td>B02598</td>\n",
       "      <td>40.7637</td>\n",
       "      <td>-73.9600</td>\n",
       "      <td>NaN</td>\n",
       "      <td>NaN</td>\n",
       "      <td>NaN</td>\n",
       "      <td>NaN</td>\n",
       "      <td>NaN</td>\n",
       "    </tr>\n",
       "    <tr>\n",
       "      <th>3</th>\n",
       "      <td>2014-04-01 00:01:00</td>\n",
       "      <td>Uber</td>\n",
       "      <td>B02617</td>\n",
       "      <td>40.7355</td>\n",
       "      <td>-73.9966</td>\n",
       "      <td>NaN</td>\n",
       "      <td>NaN</td>\n",
       "      <td>NaN</td>\n",
       "      <td>NaN</td>\n",
       "      <td>NaN</td>\n",
       "    </tr>\n",
       "    <tr>\n",
       "      <th>4</th>\n",
       "      <td>2014-04-01 00:02:00</td>\n",
       "      <td>Uber</td>\n",
       "      <td>B02682</td>\n",
       "      <td>40.7184</td>\n",
       "      <td>-73.9601</td>\n",
       "      <td>NaN</td>\n",
       "      <td>NaN</td>\n",
       "      <td>NaN</td>\n",
       "      <td>NaN</td>\n",
       "      <td>NaN</td>\n",
       "    </tr>\n",
       "  </tbody>\n",
       "</table>\n",
       "</div>"
      ],
      "text/plain": [
       "            Date/Time Company    Base      Lat      Lon Pick_Address  \\\n",
       "0 2014-04-01 00:00:00    Uber  B02598  40.7188 -73.9863          NaN   \n",
       "1 2014-04-01 00:00:00    Uber  B02682  40.7215 -73.9952          NaN   \n",
       "2 2014-04-01 00:00:00    Uber  B02598  40.7637 -73.9600          NaN   \n",
       "3 2014-04-01 00:01:00    Uber  B02617  40.7355 -73.9966          NaN   \n",
       "4 2014-04-01 00:02:00    Uber  B02682  40.7184 -73.9601          NaN   \n",
       "\n",
       "  Base Name Number of Trips Number of Vehicles Drop_Address  \n",
       "0       NaN             NaN                NaN          NaN  \n",
       "1       NaN             NaN                NaN          NaN  \n",
       "2       NaN             NaN                NaN          NaN  \n",
       "3       NaN             NaN                NaN          NaN  \n",
       "4       NaN             NaN                NaN          NaN  "
      ]
     },
     "execution_count": 51,
     "metadata": {},
     "output_type": "execute_result"
    }
   ],
   "source": [
    "df_all.head()"
   ]
  },
  {
   "cell_type": "code",
   "execution_count": 52,
   "metadata": {},
   "outputs": [
    {
     "data": {
      "text/plain": [
       "Date/Time             6237642\n",
       "Company               6237642\n",
       "Base                  4817381\n",
       "Lat                   4802027\n",
       "Lon                   4802027\n",
       "Pick_Address          1372043\n",
       "Base Name               26181\n",
       "Number of Trips         26535\n",
       "Number of Vehicles      26535\n",
       "Drop_Address              267\n",
       "dtype: int64"
      ]
     },
     "execution_count": 52,
     "metadata": {},
     "output_type": "execute_result"
    }
   ],
   "source": [
    "df_all.count()"
   ]
  },
  {
   "cell_type": "code",
   "execution_count": 53,
   "metadata": {},
   "outputs": [],
   "source": [
    "start_date = '2014/01/01'\n",
    "end_date = '2014/12/31'\n",
    "df_all_2014 = df_all[(df_all['Date/Time']>=start_date) & (df_all['Date/Time']<=end_date)]"
   ]
  },
  {
   "cell_type": "code",
   "execution_count": 54,
   "metadata": {},
   "outputs": [
    {
     "name": "stderr",
     "output_type": "stream",
     "text": [
      "/Users/shubh/anaconda3/lib/python3.7/site-packages/pandas/core/generic.py:6130: SettingWithCopyWarning: \n",
      "A value is trying to be set on a copy of a slice from a DataFrame\n",
      "\n",
      "See the caveats in the documentation: http://pandas.pydata.org/pandas-docs/stable/indexing.html#indexing-view-versus-copy\n",
      "  self._update_inplace(new_data)\n"
     ]
    },
    {
     "data": {
      "text/plain": [
       "0          B02598\n",
       "1          B02682\n",
       "2          B02598\n",
       "3          B02617\n",
       "4          B02682\n",
       "5          B02598\n",
       "6          B02598\n",
       "7          B02598\n",
       "8          B02617\n",
       "9          B02682\n",
       "10         B02598\n",
       "11         B02617\n",
       "12         B02682\n",
       "13         B02617\n",
       "14         B02617\n",
       "15         B02682\n",
       "16         B02682\n",
       "17         B02682\n",
       "18         B02617\n",
       "19         B02682\n",
       "20         B02682\n",
       "21         B02598\n",
       "22         B02682\n",
       "23         B02598\n",
       "24         B02682\n",
       "25         B02512\n",
       "26         B02682\n",
       "27         B02682\n",
       "28         B02682\n",
       "29         B02682\n",
       "            ...  \n",
       "6211431    B00256\n",
       "6211432    B00256\n",
       "6211433    B00256\n",
       "6211434    B00256\n",
       "6211435    B00256\n",
       "6211436    B00256\n",
       "6211437    B00256\n",
       "6211438    B00256\n",
       "6211439    B00256\n",
       "6211440    B00256\n",
       "6211441    B00256\n",
       "6211442    B00256\n",
       "6211443    B00256\n",
       "6211444    B00256\n",
       "6211445    B00256\n",
       "6211446    B00256\n",
       "6211447    B00256\n",
       "6211448    B00256\n",
       "6211449    B00256\n",
       "6211450    B00256\n",
       "6211451    B00256\n",
       "6211452    B00256\n",
       "6211453    B00256\n",
       "6211454    B00256\n",
       "6211455    B00256\n",
       "6211456    B00256\n",
       "6211457    B00256\n",
       "6211458    B00256\n",
       "6211459    B00256\n",
       "6211460    B00256\n",
       "Name: Base, Length: 6211107, dtype: object"
      ]
     },
     "execution_count": 54,
     "metadata": {},
     "output_type": "execute_result"
    }
   ],
   "source": [
    "df_all_2014['Base'].fillna(method = 'ffill', inplace=True)\n",
    "df_all_2014['Base'].fillna(method = 'bfill')"
   ]
  },
  {
   "cell_type": "code",
   "execution_count": 55,
   "metadata": {},
   "outputs": [
    {
     "data": {
      "text/plain": [
       "Date/Time             6211107\n",
       "Company               6211107\n",
       "Base                  6211107\n",
       "Lat                   4802027\n",
       "Lon                   4802027\n",
       "Pick_Address          1372043\n",
       "Base Name                   0\n",
       "Number of Trips             0\n",
       "Number of Vehicles          0\n",
       "Drop_Address              267\n",
       "dtype: int64"
      ]
     },
     "execution_count": 55,
     "metadata": {},
     "output_type": "execute_result"
    }
   ],
   "source": [
    "df_all_2014.count()"
   ]
  },
  {
   "cell_type": "code",
   "execution_count": 56,
   "metadata": {},
   "outputs": [
    {
     "name": "stderr",
     "output_type": "stream",
     "text": [
      "/Users/shubh/anaconda3/lib/python3.7/site-packages/pandas/core/frame.py:3940: SettingWithCopyWarning: \n",
      "A value is trying to be set on a copy of a slice from a DataFrame\n",
      "\n",
      "See the caveats in the documentation: http://pandas.pydata.org/pandas-docs/stable/indexing.html#indexing-view-versus-copy\n",
      "  errors=errors)\n"
     ]
    }
   ],
   "source": [
    "df_all_2014.drop(['Base Name', 'Number of Trips', 'Number of Vehicles', 'Drop_Address'], axis=1, inplace=True)"
   ]
  },
  {
   "cell_type": "code",
   "execution_count": 57,
   "metadata": {},
   "outputs": [
    {
     "data": {
      "text/html": [
       "<div>\n",
       "<style scoped>\n",
       "    .dataframe tbody tr th:only-of-type {\n",
       "        vertical-align: middle;\n",
       "    }\n",
       "\n",
       "    .dataframe tbody tr th {\n",
       "        vertical-align: top;\n",
       "    }\n",
       "\n",
       "    .dataframe thead th {\n",
       "        text-align: right;\n",
       "    }\n",
       "</style>\n",
       "<table border=\"1\" class=\"dataframe\">\n",
       "  <thead>\n",
       "    <tr style=\"text-align: right;\">\n",
       "      <th></th>\n",
       "      <th>Date/Time</th>\n",
       "      <th>Company</th>\n",
       "      <th>Base</th>\n",
       "      <th>Lat</th>\n",
       "      <th>Lon</th>\n",
       "      <th>Pick_Address</th>\n",
       "    </tr>\n",
       "  </thead>\n",
       "  <tbody>\n",
       "    <tr>\n",
       "      <th>0</th>\n",
       "      <td>2014-04-01 00:00:00</td>\n",
       "      <td>Uber</td>\n",
       "      <td>B02598</td>\n",
       "      <td>40.7188</td>\n",
       "      <td>-73.9863</td>\n",
       "      <td>NaN</td>\n",
       "    </tr>\n",
       "    <tr>\n",
       "      <th>1</th>\n",
       "      <td>2014-04-01 00:00:00</td>\n",
       "      <td>Uber</td>\n",
       "      <td>B02682</td>\n",
       "      <td>40.7215</td>\n",
       "      <td>-73.9952</td>\n",
       "      <td>NaN</td>\n",
       "    </tr>\n",
       "    <tr>\n",
       "      <th>2</th>\n",
       "      <td>2014-04-01 00:00:00</td>\n",
       "      <td>Uber</td>\n",
       "      <td>B02598</td>\n",
       "      <td>40.7637</td>\n",
       "      <td>-73.9600</td>\n",
       "      <td>NaN</td>\n",
       "    </tr>\n",
       "    <tr>\n",
       "      <th>3</th>\n",
       "      <td>2014-04-01 00:01:00</td>\n",
       "      <td>Uber</td>\n",
       "      <td>B02617</td>\n",
       "      <td>40.7355</td>\n",
       "      <td>-73.9966</td>\n",
       "      <td>NaN</td>\n",
       "    </tr>\n",
       "    <tr>\n",
       "      <th>4</th>\n",
       "      <td>2014-04-01 00:02:00</td>\n",
       "      <td>Uber</td>\n",
       "      <td>B02682</td>\n",
       "      <td>40.7184</td>\n",
       "      <td>-73.9601</td>\n",
       "      <td>NaN</td>\n",
       "    </tr>\n",
       "  </tbody>\n",
       "</table>\n",
       "</div>"
      ],
      "text/plain": [
       "            Date/Time Company    Base      Lat      Lon Pick_Address\n",
       "0 2014-04-01 00:00:00    Uber  B02598  40.7188 -73.9863          NaN\n",
       "1 2014-04-01 00:00:00    Uber  B02682  40.7215 -73.9952          NaN\n",
       "2 2014-04-01 00:00:00    Uber  B02598  40.7637 -73.9600          NaN\n",
       "3 2014-04-01 00:01:00    Uber  B02617  40.7355 -73.9966          NaN\n",
       "4 2014-04-01 00:02:00    Uber  B02682  40.7184 -73.9601          NaN"
      ]
     },
     "execution_count": 57,
     "metadata": {},
     "output_type": "execute_result"
    }
   ],
   "source": [
    "df_all_2014.head()"
   ]
  },
  {
   "cell_type": "code",
   "execution_count": null,
   "metadata": {},
   "outputs": [],
   "source": []
  },
  {
   "cell_type": "code",
   "execution_count": 58,
   "metadata": {},
   "outputs": [],
   "source": [
    "start_date = '2015/01/01'\n",
    "end_date = '2015/12/31'\n",
    "df_all_2015 = df_all[(df_all['Date/Time']>=start_date) & (df_all['Date/Time']<=end_date)]"
   ]
  },
  {
   "cell_type": "code",
   "execution_count": 59,
   "metadata": {},
   "outputs": [
    {
     "data": {
      "text/plain": [
       "Date/Time             26535\n",
       "Company               26535\n",
       "Base                  26535\n",
       "Lat                       0\n",
       "Lon                       0\n",
       "Pick_Address              0\n",
       "Base Name             26181\n",
       "Number of Trips       26535\n",
       "Number of Vehicles    26535\n",
       "Drop_Address              0\n",
       "dtype: int64"
      ]
     },
     "execution_count": 59,
     "metadata": {},
     "output_type": "execute_result"
    }
   ],
   "source": [
    "df_all_2015.count()"
   ]
  },
  {
   "cell_type": "code",
   "execution_count": 60,
   "metadata": {},
   "outputs": [],
   "source": [
    "df_all_2015.drop(['Lat', 'Lon', 'Pick_Address', 'Drop_Address'], axis=1, inplace=True)"
   ]
  },
  {
   "cell_type": "code",
   "execution_count": 61,
   "metadata": {},
   "outputs": [
    {
     "data": {
      "text/html": [
       "<div>\n",
       "<style scoped>\n",
       "    .dataframe tbody tr th:only-of-type {\n",
       "        vertical-align: middle;\n",
       "    }\n",
       "\n",
       "    .dataframe tbody tr th {\n",
       "        vertical-align: top;\n",
       "    }\n",
       "\n",
       "    .dataframe thead th {\n",
       "        text-align: right;\n",
       "    }\n",
       "</style>\n",
       "<table border=\"1\" class=\"dataframe\">\n",
       "  <thead>\n",
       "    <tr style=\"text-align: right;\">\n",
       "      <th></th>\n",
       "      <th>Date/Time</th>\n",
       "      <th>Company</th>\n",
       "      <th>Base</th>\n",
       "      <th>Base Name</th>\n",
       "      <th>Number of Trips</th>\n",
       "      <th>Number of Vehicles</th>\n",
       "    </tr>\n",
       "  </thead>\n",
       "  <tbody>\n",
       "    <tr>\n",
       "      <th>4534327</th>\n",
       "      <td>2015-01-01</td>\n",
       "      <td>Uber</td>\n",
       "      <td>B02512</td>\n",
       "      <td>NaN</td>\n",
       "      <td>1132</td>\n",
       "      <td>190</td>\n",
       "    </tr>\n",
       "    <tr>\n",
       "      <th>4534328</th>\n",
       "      <td>2015-01-01</td>\n",
       "      <td>Uber</td>\n",
       "      <td>B02765</td>\n",
       "      <td>NaN</td>\n",
       "      <td>1765</td>\n",
       "      <td>225</td>\n",
       "    </tr>\n",
       "    <tr>\n",
       "      <th>4534329</th>\n",
       "      <td>2015-01-01</td>\n",
       "      <td>Uber</td>\n",
       "      <td>B02764</td>\n",
       "      <td>NaN</td>\n",
       "      <td>29421</td>\n",
       "      <td>3427</td>\n",
       "    </tr>\n",
       "    <tr>\n",
       "      <th>4534330</th>\n",
       "      <td>2015-01-01</td>\n",
       "      <td>Uber</td>\n",
       "      <td>B02682</td>\n",
       "      <td>NaN</td>\n",
       "      <td>7679</td>\n",
       "      <td>945</td>\n",
       "    </tr>\n",
       "    <tr>\n",
       "      <th>4534331</th>\n",
       "      <td>2015-01-01</td>\n",
       "      <td>Uber</td>\n",
       "      <td>B02617</td>\n",
       "      <td>NaN</td>\n",
       "      <td>9537</td>\n",
       "      <td>1228</td>\n",
       "    </tr>\n",
       "  </tbody>\n",
       "</table>\n",
       "</div>"
      ],
      "text/plain": [
       "         Date/Time Company    Base Base Name Number of Trips  \\\n",
       "4534327 2015-01-01    Uber  B02512       NaN            1132   \n",
       "4534328 2015-01-01    Uber  B02765       NaN            1765   \n",
       "4534329 2015-01-01    Uber  B02764       NaN           29421   \n",
       "4534330 2015-01-01    Uber  B02682       NaN            7679   \n",
       "4534331 2015-01-01    Uber  B02617       NaN            9537   \n",
       "\n",
       "        Number of Vehicles  \n",
       "4534327                190  \n",
       "4534328                225  \n",
       "4534329               3427  \n",
       "4534330                945  \n",
       "4534331               1228  "
      ]
     },
     "execution_count": 61,
     "metadata": {},
     "output_type": "execute_result"
    }
   ],
   "source": [
    "df_all_2015.head()"
   ]
  },
  {
   "cell_type": "markdown",
   "metadata": {},
   "source": [
    "# Analysis of Data"
   ]
  },
  {
   "cell_type": "code",
   "execution_count": 62,
   "metadata": {},
   "outputs": [
    {
     "name": "stderr",
     "output_type": "stream",
     "text": [
      "/Users/shubh/anaconda3/lib/python3.7/site-packages/ipykernel_launcher.py:1: SettingWithCopyWarning: \n",
      "A value is trying to be set on a copy of a slice from a DataFrame.\n",
      "Try using .loc[row_indexer,col_indexer] = value instead\n",
      "\n",
      "See the caveats in the documentation: http://pandas.pydata.org/pandas-docs/stable/indexing.html#indexing-view-versus-copy\n",
      "  \"\"\"Entry point for launching an IPython kernel.\n",
      "/Users/shubh/anaconda3/lib/python3.7/site-packages/ipykernel_launcher.py:2: SettingWithCopyWarning: \n",
      "A value is trying to be set on a copy of a slice from a DataFrame.\n",
      "Try using .loc[row_indexer,col_indexer] = value instead\n",
      "\n",
      "See the caveats in the documentation: http://pandas.pydata.org/pandas-docs/stable/indexing.html#indexing-view-versus-copy\n",
      "  \n",
      "/Users/shubh/anaconda3/lib/python3.7/site-packages/ipykernel_launcher.py:3: SettingWithCopyWarning: \n",
      "A value is trying to be set on a copy of a slice from a DataFrame.\n",
      "Try using .loc[row_indexer,col_indexer] = value instead\n",
      "\n",
      "See the caveats in the documentation: http://pandas.pydata.org/pandas-docs/stable/indexing.html#indexing-view-versus-copy\n",
      "  This is separate from the ipykernel package so we can avoid doing imports until\n",
      "/Users/shubh/anaconda3/lib/python3.7/site-packages/ipykernel_launcher.py:4: SettingWithCopyWarning: \n",
      "A value is trying to be set on a copy of a slice from a DataFrame.\n",
      "Try using .loc[row_indexer,col_indexer] = value instead\n",
      "\n",
      "See the caveats in the documentation: http://pandas.pydata.org/pandas-docs/stable/indexing.html#indexing-view-versus-copy\n",
      "  after removing the cwd from sys.path.\n",
      "/Users/shubh/anaconda3/lib/python3.7/site-packages/ipykernel_launcher.py:5: SettingWithCopyWarning: \n",
      "A value is trying to be set on a copy of a slice from a DataFrame.\n",
      "Try using .loc[row_indexer,col_indexer] = value instead\n",
      "\n",
      "See the caveats in the documentation: http://pandas.pydata.org/pandas-docs/stable/indexing.html#indexing-view-versus-copy\n",
      "  \"\"\"\n"
     ]
    }
   ],
   "source": [
    "df_all_2014['DayOfWeekNum'] = df_all_2014['Date/Time'].dt.dayofweek\n",
    "df_all_2014['DayOfWeek'] = df_all_2014['Date/Time'].dt.weekday_name\n",
    "df_all_2014['MonthDayNum'] = df_all_2014['Date/Time'].dt.day\n",
    "df_all_2014['HourOfDay'] = df_all_2014['Date/Time'].dt.hour\n",
    "df_all_2014['Only_Date'] = df_all_2014['Date/Time'].dt.date"
   ]
  },
  {
   "cell_type": "code",
   "execution_count": 63,
   "metadata": {},
   "outputs": [
    {
     "data": {
      "text/plain": [
       "Date/Time       6211107\n",
       "Company         6211107\n",
       "Base            6211107\n",
       "Lat             4802027\n",
       "Lon             4802027\n",
       "Pick_Address    1372043\n",
       "DayOfWeekNum    6211107\n",
       "DayOfWeek       6211107\n",
       "MonthDayNum     6211107\n",
       "HourOfDay       6211107\n",
       "Only_Date       6211107\n",
       "dtype: int64"
      ]
     },
     "execution_count": 63,
     "metadata": {},
     "output_type": "execute_result"
    }
   ],
   "source": [
    "df_all_2014.count()"
   ]
  },
  {
   "cell_type": "code",
   "execution_count": 64,
   "metadata": {},
   "outputs": [
    {
     "data": {
      "text/plain": [
       "HourOfDay  Company    \n",
       "0          Carmel           3736\n",
       "           Dial             3628\n",
       "           Lyft            20353\n",
       "           Skyline          2104\n",
       "           Uber           103836\n",
       "1          American         7034\n",
       "           Carmel           1705\n",
       "           Dial             1628\n",
       "           Diplo            7470\n",
       "           Federal            22\n",
       "           First_Class     13248\n",
       "           High_Class      12097\n",
       "           Lyft            20144\n",
       "           Prestige        23858\n",
       "           Skyline          1334\n",
       "           Uber            67227\n",
       "2          American         6127\n",
       "           Carmel           1002\n",
       "           Dial              868\n",
       "           Diplo            6772\n",
       "           Federal            12\n",
       "           First_Class     11859\n",
       "           High_Class      10877\n",
       "           Lyft            19592\n",
       "           Prestige        22284\n",
       "           Skyline           698\n",
       "           Uber            45865\n",
       "3          American         5719\n",
       "           Carmel           1586\n",
       "           Dial             1323\n",
       "                           ...  \n",
       "18         Carmel          12695\n",
       "           Dial             9818\n",
       "           Lyft            10390\n",
       "           Skyline          4933\n",
       "           Uber           324679\n",
       "19         Carmel          10286\n",
       "           Dial             8040\n",
       "           Lyft            11466\n",
       "           Skyline          5691\n",
       "           Uber           294513\n",
       "20         Carmel           8808\n",
       "           Dial             7997\n",
       "           Lyft            13283\n",
       "           Skyline          8976\n",
       "           Uber           284604\n",
       "21         Carmel           8114\n",
       "           Dial             7895\n",
       "           Lyft            15918\n",
       "           Skyline          8723\n",
       "           Uber           281460\n",
       "22         Carmel           7462\n",
       "           Dial             6985\n",
       "           Lyft            19283\n",
       "           Skyline          6464\n",
       "           Uber           241858\n",
       "23         Carmel           6288\n",
       "           Dial             6001\n",
       "           Lyft            20579\n",
       "           Skyline          4058\n",
       "           Uber           169190\n",
       "Name: Base, Length: 192, dtype: int64"
      ]
     },
     "execution_count": 64,
     "metadata": {},
     "output_type": "execute_result"
    }
   ],
   "source": [
    "#Find out the number of trips per hour across all the cab services\n",
    "hour_cab = df_all_2014.groupby(['HourOfDay', 'Company'])['Base'].count()\n",
    "hour_cab"
   ]
  },
  {
   "cell_type": "code",
   "execution_count": 65,
   "metadata": {},
   "outputs": [
    {
     "data": {
      "text/plain": [
       "HourOfDay  Company    \n",
       "0          Carmel           3736\n",
       "           Dial             3628\n",
       "           Lyft            20353\n",
       "           Skyline          2104\n",
       "           Uber           103836\n",
       "1          American         7034\n",
       "           Carmel           1705\n",
       "           Dial             1628\n",
       "           Diplo            7470\n",
       "           Federal            22\n",
       "           First_Class     13248\n",
       "           High_Class      12097\n",
       "           Lyft            20144\n",
       "           Prestige        23858\n",
       "           Skyline          1334\n",
       "           Uber            67227\n",
       "2          American         6127\n",
       "           Carmel           1002\n",
       "           Dial              868\n",
       "           Diplo            6772\n",
       "           Federal            12\n",
       "           First_Class     11859\n",
       "           High_Class      10877\n",
       "           Lyft            19592\n",
       "           Prestige        22284\n",
       "           Skyline           698\n",
       "           Uber            45865\n",
       "3          American         5719\n",
       "           Carmel           1586\n",
       "           Dial             1323\n",
       "                           ...  \n",
       "18         Carmel          12695\n",
       "           Dial             9818\n",
       "           Lyft            10390\n",
       "           Skyline          4933\n",
       "           Uber           324679\n",
       "19         Carmel          10286\n",
       "           Dial             8040\n",
       "           Lyft            11466\n",
       "           Skyline          5691\n",
       "           Uber           294513\n",
       "20         Carmel           8808\n",
       "           Dial             7997\n",
       "           Lyft            13283\n",
       "           Skyline          8976\n",
       "           Uber           284604\n",
       "21         Carmel           8114\n",
       "           Dial             7895\n",
       "           Lyft            15918\n",
       "           Skyline          8723\n",
       "           Uber           281460\n",
       "22         Carmel           7462\n",
       "           Dial             6985\n",
       "           Lyft            19283\n",
       "           Skyline          6464\n",
       "           Uber           241858\n",
       "23         Carmel           6288\n",
       "           Dial             6001\n",
       "           Lyft            20579\n",
       "           Skyline          4058\n",
       "           Uber           169190\n",
       "Name: Base, Length: 192, dtype: int64"
      ]
     },
     "execution_count": 65,
     "metadata": {},
     "output_type": "execute_result"
    }
   ],
   "source": [
    "hour_cab = df_all_2014.groupby(['HourOfDay', 'Company'])['Base'].count()\n",
    "hour_cab"
   ]
  },
  {
   "cell_type": "code",
   "execution_count": 66,
   "metadata": {},
   "outputs": [
    {
     "data": {
      "text/plain": [
       "<matplotlib.axes._subplots.AxesSubplot at 0x1a340d0860>"
      ]
     },
     "execution_count": 66,
     "metadata": {},
     "output_type": "execute_result"
    },
    {
     "data": {
      "image/png": "[encoded data removed]",
      "text/plain": [
       "<Figure size 720x720 with 1 Axes>"
      ]
     },
     "metadata": {
      "needs_background": "light"
     },
     "output_type": "display_data"
    }
   ],
   "source": [
    "# plot data\n",
    "fig, ax = plt.subplots(figsize=(10,10))\n",
    "# use unstack()\n",
    "df_all_2014.groupby(['HourOfDay', 'Company']).count()['Base'].unstack().plot(ax=ax)"
   ]
  },
  {
   "cell_type": "code",
   "execution_count": 67,
   "metadata": {},
   "outputs": [],
   "source": [
    "#Find out how the trips per hour change across the months"
   ]
  },
  {
   "cell_type": "code",
   "execution_count": 68,
   "metadata": {},
   "outputs": [
    {
     "data": {
      "text/plain": [
       "MonthDayNum  HourOfDay\n",
       "1            0             4073\n",
       "             1             4629\n",
       "             2             3700\n",
       "             3             3622\n",
       "             4             4111\n",
       "             5             5026\n",
       "             6             6762\n",
       "             7             8684\n",
       "             8             9140\n",
       "             9             8398\n",
       "             10            8139\n",
       "             11            8282\n",
       "             12            8198\n",
       "             13            7097\n",
       "             14            8473\n",
       "             15            9504\n",
       "             16           10227\n",
       "             17           10963\n",
       "             18            9950\n",
       "             19            9330\n",
       "             20            8739\n",
       "             21            9164\n",
       "             22            7458\n",
       "             23            5144\n",
       "2            0             3285\n",
       "             1             4373\n",
       "             2             3450\n",
       "             3             3714\n",
       "             4             4533\n",
       "             5             5997\n",
       "                          ...  \n",
       "30           18           14053\n",
       "             19           12496\n",
       "             20           12485\n",
       "             21           11698\n",
       "             22            9818\n",
       "             23            6003\n",
       "31           0             2890\n",
       "             1             3623\n",
       "             2             3142\n",
       "             3             2861\n",
       "             4             2966\n",
       "             5             3210\n",
       "             6             3818\n",
       "             7             4463\n",
       "             8             4845\n",
       "             9             5087\n",
       "             10            4973\n",
       "             11            5187\n",
       "             12            5441\n",
       "             13            4102\n",
       "             14            5151\n",
       "             15            6307\n",
       "             16            6522\n",
       "             17            6416\n",
       "             18            6384\n",
       "             19            5854\n",
       "             20            5816\n",
       "             21            6102\n",
       "             22            6193\n",
       "             23            4933\n",
       "Name: Base, Length: 744, dtype: int64"
      ]
     },
     "execution_count": 68,
     "metadata": {},
     "output_type": "execute_result"
    }
   ],
   "source": [
    "hour_month = df_all_2014.groupby(['MonthDayNum', 'HourOfDay'])['Base'].count()\n",
    "hour_month"
   ]
  },
  {
   "cell_type": "code",
   "execution_count": 69,
   "metadata": {},
   "outputs": [
    {
     "data": {
      "text/plain": [
       "<matplotlib.axes._subplots.AxesSubplot at 0x1a1f8a0be0>"
      ]
     },
     "execution_count": 69,
     "metadata": {},
     "output_type": "execute_result"
    },
    {
     "data": {
      "image/png": "[encoded data removed]",
      "text/plain": [
       "<Figure size 1080x504 with 1 Axes>"
      ]
     },
     "metadata": {
      "needs_background": "light"
     },
     "output_type": "display_data"
    }
   ],
   "source": [
    "# plot data\n",
    "fig, ax = plt.subplots(figsize=(15,7))\n",
    "# use unstack()\n",
    "df_all_2014.groupby(['MonthDayNum', 'HourOfDay']).count()['Base'].unstack().plot(ax=ax)"
   ]
  },
  {
   "cell_type": "code",
   "execution_count": null,
   "metadata": {},
   "outputs": [],
   "source": []
  },
  {
   "cell_type": "code",
   "execution_count": 70,
   "metadata": {},
   "outputs": [],
   "source": [
    "from geopy.geocoders import Nominatim"
   ]
  },
  {
   "cell_type": "code",
   "execution_count": 71,
   "metadata": {},
   "outputs": [],
   "source": [
    "#Find out the number of trips per day of the week over months"
   ]
  },
  {
   "cell_type": "code",
   "execution_count": 72,
   "metadata": {},
   "outputs": [
    {
     "data": {
      "text/plain": [
       "DayOfWeek  MonthDayNum\n",
       "Friday     1              50766\n",
       "           2              24235\n",
       "           4              53997\n",
       "           5              64725\n",
       "           6              24683\n",
       "           8              53189\n",
       "           9              26385\n",
       "           11             65517\n",
       "           12             61558\n",
       "           13             31207\n",
       "           15             51084\n",
       "           16             32493\n",
       "           18             64056\n",
       "           19             61371\n",
       "           20             24271\n",
       "           22             51638\n",
       "           23             26465\n",
       "           25             71513\n",
       "           26             56440\n",
       "           27             24895\n",
       "           29             50581\n",
       "           30             24413\n",
       "Monday     1              37724\n",
       "           2              17503\n",
       "           4              42357\n",
       "           5              17859\n",
       "           7              52821\n",
       "           8              49807\n",
       "           9              23244\n",
       "           11             42264\n",
       "                          ...  \n",
       "Tuesday    19             43835\n",
       "           20             20860\n",
       "           22             60625\n",
       "           23             47369\n",
       "           24             20779\n",
       "           26             40288\n",
       "           27             17004\n",
       "           29             65627\n",
       "           30             51011\n",
       "Wednesday  2              60748\n",
       "           3              52691\n",
       "           4              22831\n",
       "           6              47868\n",
       "           7              21891\n",
       "           9              59829\n",
       "           10             55692\n",
       "           11             25716\n",
       "           13             51523\n",
       "           14             22218\n",
       "           16             62129\n",
       "           17             53349\n",
       "           18             24647\n",
       "           20             48301\n",
       "           21             23508\n",
       "           23             70226\n",
       "           24             48953\n",
       "           25             26460\n",
       "           27             44199\n",
       "           28             22240\n",
       "           30             82615\n",
       "Name: Base, Length: 153, dtype: int64"
      ]
     },
     "execution_count": 72,
     "metadata": {},
     "output_type": "execute_result"
    }
   ],
   "source": [
    "day_month = df_all_2014.groupby(['DayOfWeek', 'MonthDayNum'])['Base'].count()\n",
    "day_month"
   ]
  },
  {
   "cell_type": "code",
   "execution_count": 73,
   "metadata": {},
   "outputs": [],
   "source": [
    "# find the highest, minimum, and the average trips per day per cab service."
   ]
  },
  {
   "cell_type": "code",
   "execution_count": 74,
   "metadata": {},
   "outputs": [
    {
     "data": {
      "text/plain": [
       "Company   Only_Date \n",
       "American  2014-07-01      921\n",
       "          2014-07-02     1028\n",
       "          2014-07-03     1068\n",
       "          2014-07-04     1008\n",
       "          2014-07-05     1214\n",
       "          2014-07-06     1048\n",
       "          2014-07-07      893\n",
       "          2014-07-08      916\n",
       "          2014-07-09      841\n",
       "          2014-07-10      823\n",
       "          2014-07-11     1067\n",
       "          2014-07-12     1284\n",
       "          2014-07-13     1060\n",
       "          2014-07-14      900\n",
       "          2014-07-15      959\n",
       "          2014-07-16      907\n",
       "          2014-07-17      944\n",
       "          2014-07-18     1077\n",
       "          2014-07-19     1246\n",
       "          2014-07-20     1122\n",
       "          2014-07-21      839\n",
       "          2014-07-22      778\n",
       "          2014-07-23      893\n",
       "          2014-07-24      850\n",
       "          2014-07-25     1084\n",
       "          2014-07-26     1188\n",
       "          2014-07-27     1082\n",
       "          2014-07-28      828\n",
       "          2014-07-29      782\n",
       "          2014-07-30      825\n",
       "                        ...  \n",
       "Uber      2014-09-01    19961\n",
       "          2014-09-02    28831\n",
       "          2014-09-03    32631\n",
       "          2014-09-04    38360\n",
       "          2014-09-05    42319\n",
       "          2014-09-06    40520\n",
       "          2014-09-07    30134\n",
       "          2014-09-08    30360\n",
       "          2014-09-09    34560\n",
       "          2014-09-10    35910\n",
       "          2014-09-11    36439\n",
       "          2014-09-12    39540\n",
       "          2014-09-13    43205\n",
       "          2014-09-14    28122\n",
       "          2014-09-15    29454\n",
       "          2014-09-16    36092\n",
       "          2014-09-17    35531\n",
       "          2014-09-18    40274\n",
       "          2014-09-19    41017\n",
       "          2014-09-20    38864\n",
       "          2014-09-21    28620\n",
       "          2014-09-22    28312\n",
       "          2014-09-23    30316\n",
       "          2014-09-24    31301\n",
       "          2014-09-25    38203\n",
       "          2014-09-26    37504\n",
       "          2014-09-27    39468\n",
       "          2014-09-28    29656\n",
       "          2014-09-29    29201\n",
       "          2014-09-30    33431\n",
       "Name: Base, Length: 1070, dtype: int64"
      ]
     },
     "execution_count": 74,
     "metadata": {},
     "output_type": "execute_result"
    }
   ],
   "source": [
    "xyz = df_all_2014.groupby(['Company', 'Only_Date'])['Base'].count()\n",
    "xyz\n"
   ]
  },
  {
   "cell_type": "code",
   "execution_count": 75,
   "metadata": {},
   "outputs": [
    {
     "data": {
      "text/plain": [
       "Company\n",
       "American         768\n",
       "Carmel          1846\n",
       "Dial            1371\n",
       "Diplo            810\n",
       "Federal            1\n",
       "First_Class     1211\n",
       "High_Class      1315\n",
       "Lyft              40\n",
       "Prestige        2781\n",
       "Skyline          276\n",
       "Uber           10202\n",
       "Name: Base, dtype: int64"
      ]
     },
     "execution_count": 75,
     "metadata": {},
     "output_type": "execute_result"
    }
   ],
   "source": [
    "xyz.min(level=0)"
   ]
  },
  {
   "cell_type": "code",
   "execution_count": null,
   "metadata": {},
   "outputs": [],
   "source": []
  },
  {
   "cell_type": "code",
   "execution_count": 76,
   "metadata": {},
   "outputs": [
    {
     "data": {
      "text/plain": [
       "Company\n",
       "American         996.869565\n",
       "Carmel          2788.250000\n",
       "Dial            2119.478261\n",
       "Diplo           1071.195652\n",
       "Federal            3.325301\n",
       "First_Class     1812.706522\n",
       "High_Class      1651.358696\n",
       "Lyft            3936.764706\n",
       "Prestige        3485.228261\n",
       "Skyline         1388.000000\n",
       "Uber           24777.743169\n",
       "Name: Base, dtype: float64"
      ]
     },
     "execution_count": 76,
     "metadata": {},
     "output_type": "execute_result"
    }
   ],
   "source": [
    "xyz.mean(level=0)"
   ]
  },
  {
   "cell_type": "code",
   "execution_count": 77,
   "metadata": {},
   "outputs": [
    {
     "data": {
      "text/plain": [
       "Company\n",
       "American        1440\n",
       "Carmel          3507\n",
       "Dial            2795\n",
       "Diplo           1440\n",
       "Federal           12\n",
       "First_Class     2228\n",
       "High_Class      2375\n",
       "Lyft            7740\n",
       "Prestige        4470\n",
       "Skyline         2230\n",
       "Uber           43205\n",
       "Name: Base, dtype: int64"
      ]
     },
     "execution_count": 77,
     "metadata": {},
     "output_type": "execute_result"
    }
   ],
   "source": [
    "xyz.max(level=0)"
   ]
  },
  {
   "cell_type": "code",
   "execution_count": null,
   "metadata": {},
   "outputs": [],
   "source": []
  },
  {
   "cell_type": "code",
   "execution_count": null,
   "metadata": {},
   "outputs": [],
   "source": []
  },
  {
   "cell_type": "code",
   "execution_count": 78,
   "metadata": {},
   "outputs": [
    {
     "data": {
      "image/png": "[encoded data removed]",
      "text/plain": [
       "<Figure size 576x432 with 1 Axes>"
      ]
     },
     "metadata": {
      "needs_background": "light"
     },
     "output_type": "display_data"
    },
    {
     "data": {
      "image/png": "[encoded data removed]",
      "text/plain": [
       "<Figure size 576x432 with 1 Axes>"
      ]
     },
     "metadata": {
      "needs_background": "light"
     },
     "output_type": "display_data"
    },
    {
     "data": {
      "image/png": "[encoded data removed]",
      "text/plain": [
       "<Figure size 576x432 with 1 Axes>"
      ]
     },
     "metadata": {
      "needs_background": "light"
     },
     "output_type": "display_data"
    }
   ],
   "source": [
    "df_all_2014_hour = df_all_2014.pivot_table(index=['HourOfDay'],\n",
    "                                  values='Base',\n",
    "                                  aggfunc='count')\n",
    "df_all_2014_hour.plot(kind='bar', figsize=(8,6))\n",
    "plt.ylabel('No Of Trips')\n",
    "plt.title('Hour');\n",
    "\n",
    "\n",
    "df_all_2014_month = df_all_2014.pivot_table(index=['MonthDayNum'],\n",
    "                                  values='Base',\n",
    "                                  aggfunc='count')\n",
    "df_all_2014_month.plot(kind='bar', figsize=(8,6))\n",
    "plt.ylabel('Total Journeys')\n",
    "plt.title('Journeys by Month Day');\n",
    "\n",
    "\n",
    "df_all_2014_weekday = df_all_2014.pivot_table(index=['DayOfWeekNum','DayOfWeek'],\n",
    "                                  values='Base',\n",
    "                                  aggfunc='count')\n",
    "df_all_2014_weekday.plot(kind='bar', figsize=(8,6))\n",
    "plt.ylabel('Total Journeys')\n",
    "plt.title('Journeys by Week Day');"
   ]
  },
  {
   "cell_type": "code",
   "execution_count": 79,
   "metadata": {},
   "outputs": [],
   "source": [
    "df_uber_jan_june.sort_values('Date/Time', inplace=True)"
   ]
  },
  {
   "cell_type": "code",
   "execution_count": 80,
   "metadata": {},
   "outputs": [
    {
     "data": {
      "text/plain": [
       "Date/Time             26535\n",
       "Company               26535\n",
       "Base                  26535\n",
       "Base Name             26181\n",
       "Number of Trips       26535\n",
       "Number of Vehicles    26535\n",
       "dtype: int64"
      ]
     },
     "execution_count": 80,
     "metadata": {},
     "output_type": "execute_result"
    }
   ],
   "source": [
    "df_all_2015.count()"
   ]
  },
  {
   "cell_type": "code",
   "execution_count": 81,
   "metadata": {},
   "outputs": [
    {
     "name": "stderr",
     "output_type": "stream",
     "text": [
      "/Users/shubh/anaconda3/lib/python3.7/site-packages/ipykernel_launcher.py:1: SettingWithCopyWarning: \n",
      "A value is trying to be set on a copy of a slice from a DataFrame.\n",
      "Try using .loc[row_indexer,col_indexer] = value instead\n",
      "\n",
      "See the caveats in the documentation: http://pandas.pydata.org/pandas-docs/stable/indexing.html#indexing-view-versus-copy\n",
      "  \"\"\"Entry point for launching an IPython kernel.\n",
      "/Users/shubh/anaconda3/lib/python3.7/site-packages/ipykernel_launcher.py:2: SettingWithCopyWarning: \n",
      "A value is trying to be set on a copy of a slice from a DataFrame.\n",
      "Try using .loc[row_indexer,col_indexer] = value instead\n",
      "\n",
      "See the caveats in the documentation: http://pandas.pydata.org/pandas-docs/stable/indexing.html#indexing-view-versus-copy\n",
      "  \n",
      "/Users/shubh/anaconda3/lib/python3.7/site-packages/ipykernel_launcher.py:3: SettingWithCopyWarning: \n",
      "A value is trying to be set on a copy of a slice from a DataFrame.\n",
      "Try using .loc[row_indexer,col_indexer] = value instead\n",
      "\n",
      "See the caveats in the documentation: http://pandas.pydata.org/pandas-docs/stable/indexing.html#indexing-view-versus-copy\n",
      "  This is separate from the ipykernel package so we can avoid doing imports until\n",
      "/Users/shubh/anaconda3/lib/python3.7/site-packages/ipykernel_launcher.py:4: SettingWithCopyWarning: \n",
      "A value is trying to be set on a copy of a slice from a DataFrame.\n",
      "Try using .loc[row_indexer,col_indexer] = value instead\n",
      "\n",
      "See the caveats in the documentation: http://pandas.pydata.org/pandas-docs/stable/indexing.html#indexing-view-versus-copy\n",
      "  after removing the cwd from sys.path.\n"
     ]
    }
   ],
   "source": [
    "df_all_2015['DayOfWeekNum'] = df_all_2015['Date/Time'].dt.dayofweek\n",
    "df_all_2015['DayOfWeek'] = df_all_2015['Date/Time'].dt.weekday_name\n",
    "df_all_2015['MonthDayNum'] = df_all_2015['Date/Time'].dt.day\n",
    "df_all_2015['month'] = df_all_2015['Date/Time'].dt.month"
   ]
  },
  {
   "cell_type": "code",
   "execution_count": 82,
   "metadata": {},
   "outputs": [
    {
     "data": {
      "text/html": [
       "<div>\n",
       "<style scoped>\n",
       "    .dataframe tbody tr th:only-of-type {\n",
       "        vertical-align: middle;\n",
       "    }\n",
       "\n",
       "    .dataframe tbody tr th {\n",
       "        vertical-align: top;\n",
       "    }\n",
       "\n",
       "    .dataframe thead th {\n",
       "        text-align: right;\n",
       "    }\n",
       "</style>\n",
       "<table border=\"1\" class=\"dataframe\">\n",
       "  <thead>\n",
       "    <tr style=\"text-align: right;\">\n",
       "      <th></th>\n",
       "      <th>Date/Time</th>\n",
       "      <th>Company</th>\n",
       "      <th>Base</th>\n",
       "      <th>Base Name</th>\n",
       "      <th>Number of Trips</th>\n",
       "      <th>Number of Vehicles</th>\n",
       "      <th>DayOfWeekNum</th>\n",
       "      <th>DayOfWeek</th>\n",
       "      <th>MonthDayNum</th>\n",
       "      <th>month</th>\n",
       "    </tr>\n",
       "  </thead>\n",
       "  <tbody>\n",
       "    <tr>\n",
       "      <th>4534327</th>\n",
       "      <td>2015-01-01</td>\n",
       "      <td>Uber</td>\n",
       "      <td>B02512</td>\n",
       "      <td>NaN</td>\n",
       "      <td>1132</td>\n",
       "      <td>190</td>\n",
       "      <td>3</td>\n",
       "      <td>Thursday</td>\n",
       "      <td>1</td>\n",
       "      <td>1</td>\n",
       "    </tr>\n",
       "    <tr>\n",
       "      <th>4534328</th>\n",
       "      <td>2015-01-01</td>\n",
       "      <td>Uber</td>\n",
       "      <td>B02765</td>\n",
       "      <td>NaN</td>\n",
       "      <td>1765</td>\n",
       "      <td>225</td>\n",
       "      <td>3</td>\n",
       "      <td>Thursday</td>\n",
       "      <td>1</td>\n",
       "      <td>1</td>\n",
       "    </tr>\n",
       "    <tr>\n",
       "      <th>4534329</th>\n",
       "      <td>2015-01-01</td>\n",
       "      <td>Uber</td>\n",
       "      <td>B02764</td>\n",
       "      <td>NaN</td>\n",
       "      <td>29421</td>\n",
       "      <td>3427</td>\n",
       "      <td>3</td>\n",
       "      <td>Thursday</td>\n",
       "      <td>1</td>\n",
       "      <td>1</td>\n",
       "    </tr>\n",
       "    <tr>\n",
       "      <th>4534330</th>\n",
       "      <td>2015-01-01</td>\n",
       "      <td>Uber</td>\n",
       "      <td>B02682</td>\n",
       "      <td>NaN</td>\n",
       "      <td>7679</td>\n",
       "      <td>945</td>\n",
       "      <td>3</td>\n",
       "      <td>Thursday</td>\n",
       "      <td>1</td>\n",
       "      <td>1</td>\n",
       "    </tr>\n",
       "    <tr>\n",
       "      <th>4534331</th>\n",
       "      <td>2015-01-01</td>\n",
       "      <td>Uber</td>\n",
       "      <td>B02617</td>\n",
       "      <td>NaN</td>\n",
       "      <td>9537</td>\n",
       "      <td>1228</td>\n",
       "      <td>3</td>\n",
       "      <td>Thursday</td>\n",
       "      <td>1</td>\n",
       "      <td>1</td>\n",
       "    </tr>\n",
       "  </tbody>\n",
       "</table>\n",
       "</div>"
      ],
      "text/plain": [
       "         Date/Time Company    Base Base Name Number of Trips  \\\n",
       "4534327 2015-01-01    Uber  B02512       NaN            1132   \n",
       "4534328 2015-01-01    Uber  B02765       NaN            1765   \n",
       "4534329 2015-01-01    Uber  B02764       NaN           29421   \n",
       "4534330 2015-01-01    Uber  B02682       NaN            7679   \n",
       "4534331 2015-01-01    Uber  B02617       NaN            9537   \n",
       "\n",
       "        Number of Vehicles  DayOfWeekNum DayOfWeek  MonthDayNum  month  \n",
       "4534327                190             3  Thursday            1      1  \n",
       "4534328                225             3  Thursday            1      1  \n",
       "4534329               3427             3  Thursday            1      1  \n",
       "4534330                945             3  Thursday            1      1  \n",
       "4534331               1228             3  Thursday            1      1  "
      ]
     },
     "execution_count": 82,
     "metadata": {},
     "output_type": "execute_result"
    }
   ],
   "source": [
    "df_all_2015.head()"
   ]
  },
  {
   "cell_type": "code",
   "execution_count": 83,
   "metadata": {},
   "outputs": [
    {
     "data": {
      "text/plain": [
       "Date/Time             datetime64[ns]\n",
       "Company                       object\n",
       "Base                          object\n",
       "Base Name                     object\n",
       "Number of Trips               object\n",
       "Number of Vehicles            object\n",
       "DayOfWeekNum                   int64\n",
       "DayOfWeek                     object\n",
       "MonthDayNum                    int64\n",
       "month                          int64\n",
       "dtype: object"
      ]
     },
     "execution_count": 83,
     "metadata": {},
     "output_type": "execute_result"
    }
   ],
   "source": [
    "df_all_2015.dtypes"
   ]
  },
  {
   "cell_type": "code",
   "execution_count": 84,
   "metadata": {},
   "outputs": [
    {
     "name": "stderr",
     "output_type": "stream",
     "text": [
      "/Users/shubh/anaconda3/lib/python3.7/site-packages/ipykernel_launcher.py:1: SettingWithCopyWarning: \n",
      "A value is trying to be set on a copy of a slice from a DataFrame.\n",
      "Try using .loc[row_indexer,col_indexer] = value instead\n",
      "\n",
      "See the caveats in the documentation: http://pandas.pydata.org/pandas-docs/stable/indexing.html#indexing-view-versus-copy\n",
      "  \"\"\"Entry point for launching an IPython kernel.\n"
     ]
    }
   ],
   "source": [
    "df_all_2015['Number of Vehicles'] = df_all_2015['Number of Vehicles'].apply(lambda x: str(x).replace(\"-\", \"0\"))"
   ]
  },
  {
   "cell_type": "code",
   "execution_count": 85,
   "metadata": {},
   "outputs": [
    {
     "name": "stderr",
     "output_type": "stream",
     "text": [
      "/Users/shubh/anaconda3/lib/python3.7/site-packages/ipykernel_launcher.py:1: SettingWithCopyWarning: \n",
      "A value is trying to be set on a copy of a slice from a DataFrame.\n",
      "Try using .loc[row_indexer,col_indexer] = value instead\n",
      "\n",
      "See the caveats in the documentation: http://pandas.pydata.org/pandas-docs/stable/indexing.html#indexing-view-versus-copy\n",
      "  \"\"\"Entry point for launching an IPython kernel.\n"
     ]
    }
   ],
   "source": [
    "df_all_2015['Number of Vehicles'] = df_all_2015['Number of Vehicles'].apply(lambda x: int(x))"
   ]
  },
  {
   "cell_type": "code",
   "execution_count": 86,
   "metadata": {},
   "outputs": [],
   "source": [
    "#Find out if you can figure out how many vehicles were active on any particular day"
   ]
  },
  {
   "cell_type": "code",
   "execution_count": 87,
   "metadata": {},
   "outputs": [
    {
     "data": {
      "text/plain": [
       "<matplotlib.axes._subplots.AxesSubplot at 0x1a19436a90>"
      ]
     },
     "execution_count": 87,
     "metadata": {},
     "output_type": "execute_result"
    },
    {
     "data": {
      "image/png": "[encoded data removed]",
      "text/plain": [
       "<Figure size 576x432 with 1 Axes>"
      ]
     },
     "metadata": {
      "needs_background": "light"
     },
     "output_type": "display_data"
    }
   ],
   "source": [
    "df_all_2015.groupby('MonthDayNum')['Number of Vehicles'].sum().plot(kind='bar', figsize = (8,6))"
   ]
  },
  {
   "cell_type": "code",
   "execution_count": 88,
   "metadata": {},
   "outputs": [
    {
     "data": {
      "text/plain": [
       "<matplotlib.axes._subplots.AxesSubplot at 0x1a344eb2e8>"
      ]
     },
     "execution_count": 88,
     "metadata": {},
     "output_type": "execute_result"
    },
    {
     "data": {
      "image/png": "[encoded data removed]",
      "text/plain": [
       "<Figure size 576x432 with 1 Axes>"
      ]
     },
     "metadata": {
      "needs_background": "light"
     },
     "output_type": "display_data"
    }
   ],
   "source": [
    "df_all_2015.groupby('DayOfWeek')['Number of Vehicles'].sum().plot(kind='bar', figsize = (8,6))"
   ]
  },
  {
   "cell_type": "markdown",
   "metadata": {},
   "source": [
    "# Exploration"
   ]
  },
  {
   "cell_type": "code",
   "execution_count": 89,
   "metadata": {},
   "outputs": [
    {
     "name": "stderr",
     "output_type": "stream",
     "text": [
      "/Users/shubh/anaconda3/lib/python3.7/site-packages/ipykernel_launcher.py:1: SettingWithCopyWarning: \n",
      "A value is trying to be set on a copy of a slice from a DataFrame.\n",
      "Try using .loc[row_indexer,col_indexer] = value instead\n",
      "\n",
      "See the caveats in the documentation: http://pandas.pydata.org/pandas-docs/stable/indexing.html#indexing-view-versus-copy\n",
      "  \"\"\"Entry point for launching an IPython kernel.\n"
     ]
    }
   ],
   "source": [
    "df_all_2014['month'] = df_all_2014['Date/Time'].dt.month"
   ]
  },
  {
   "cell_type": "code",
   "execution_count": 90,
   "metadata": {},
   "outputs": [
    {
     "data": {
      "image/png": "[encoded data removed]",
      "text/plain": [
       "<Figure size 576x432 with 1 Axes>"
      ]
     },
     "metadata": {
      "needs_background": "light"
     },
     "output_type": "display_data"
    }
   ],
   "source": [
    "# Business Comparison\n",
    "\n",
    "df_all_2014.groupby(['month','Company']).count().unstack('Company')['Date/Time'].plot(kind='bar', figsize = (8,6),stacked=True)\n",
    "plt.ylabel('Total Journeys')\n",
    "plt.title('Uber Business vs Other Businesses (2014)');"
   ]
  },
  {
   "cell_type": "code",
   "execution_count": 91,
   "metadata": {},
   "outputs": [
    {
     "data": {
      "image/png": "[encoded data removed]",
      "text/plain": [
       "<Figure size 576x432 with 1 Axes>"
      ]
     },
     "metadata": {
      "needs_background": "light"
     },
     "output_type": "display_data"
    }
   ],
   "source": [
    "# Growth\n",
    "df_all_2014.groupby(['month','Company']).count().unstack('Company')['Date/Time'].plot(figsize = (8,6),stacked=True)\n",
    "plt.ylabel('Total Journeys')\n",
    "plt.title('Growth of Company Businesses');\n",
    "plt.grid()"
   ]
  },
  {
   "cell_type": "code",
   "execution_count": 92,
   "metadata": {},
   "outputs": [
    {
     "name": "stderr",
     "output_type": "stream",
     "text": [
      "/Users/shubh/anaconda3/lib/python3.7/site-packages/ipykernel_launcher.py:1: SettingWithCopyWarning: \n",
      "A value is trying to be set on a copy of a slice from a DataFrame.\n",
      "Try using .loc[row_indexer,col_indexer] = value instead\n",
      "\n",
      "See the caveats in the documentation: http://pandas.pydata.org/pandas-docs/stable/indexing.html#indexing-view-versus-copy\n",
      "  \"\"\"Entry point for launching an IPython kernel.\n"
     ]
    }
   ],
   "source": [
    "df_all_2014['Cordinates'] = df_all_2014['Lat'].astype(str) + \",\" + df_all_2014['Lon'].astype(str)"
   ]
  },
  {
   "cell_type": "code",
   "execution_count": 93,
   "metadata": {},
   "outputs": [
    {
     "data": {
      "text/html": [
       "<div>\n",
       "<style scoped>\n",
       "    .dataframe tbody tr th:only-of-type {\n",
       "        vertical-align: middle;\n",
       "    }\n",
       "\n",
       "    .dataframe tbody tr th {\n",
       "        vertical-align: top;\n",
       "    }\n",
       "\n",
       "    .dataframe thead th {\n",
       "        text-align: right;\n",
       "    }\n",
       "</style>\n",
       "<table border=\"1\" class=\"dataframe\">\n",
       "  <thead>\n",
       "    <tr style=\"text-align: right;\">\n",
       "      <th></th>\n",
       "      <th>Date/Time</th>\n",
       "      <th>Company</th>\n",
       "      <th>Base</th>\n",
       "      <th>Lat</th>\n",
       "      <th>Lon</th>\n",
       "      <th>Pick_Address</th>\n",
       "      <th>DayOfWeekNum</th>\n",
       "      <th>DayOfWeek</th>\n",
       "      <th>MonthDayNum</th>\n",
       "      <th>HourOfDay</th>\n",
       "      <th>Only_Date</th>\n",
       "      <th>month</th>\n",
       "      <th>Cordinates</th>\n",
       "    </tr>\n",
       "  </thead>\n",
       "  <tbody>\n",
       "    <tr>\n",
       "      <th>0</th>\n",
       "      <td>2014-04-01 00:00:00</td>\n",
       "      <td>Uber</td>\n",
       "      <td>B02598</td>\n",
       "      <td>40.7188</td>\n",
       "      <td>-73.9863</td>\n",
       "      <td>NaN</td>\n",
       "      <td>1</td>\n",
       "      <td>Tuesday</td>\n",
       "      <td>1</td>\n",
       "      <td>0</td>\n",
       "      <td>2014-04-01</td>\n",
       "      <td>4</td>\n",
       "      <td>40.7188,-73.9863</td>\n",
       "    </tr>\n",
       "    <tr>\n",
       "      <th>1</th>\n",
       "      <td>2014-04-01 00:00:00</td>\n",
       "      <td>Uber</td>\n",
       "      <td>B02682</td>\n",
       "      <td>40.7215</td>\n",
       "      <td>-73.9952</td>\n",
       "      <td>NaN</td>\n",
       "      <td>1</td>\n",
       "      <td>Tuesday</td>\n",
       "      <td>1</td>\n",
       "      <td>0</td>\n",
       "      <td>2014-04-01</td>\n",
       "      <td>4</td>\n",
       "      <td>40.7215,-73.9952</td>\n",
       "    </tr>\n",
       "    <tr>\n",
       "      <th>2</th>\n",
       "      <td>2014-04-01 00:00:00</td>\n",
       "      <td>Uber</td>\n",
       "      <td>B02598</td>\n",
       "      <td>40.7637</td>\n",
       "      <td>-73.9600</td>\n",
       "      <td>NaN</td>\n",
       "      <td>1</td>\n",
       "      <td>Tuesday</td>\n",
       "      <td>1</td>\n",
       "      <td>0</td>\n",
       "      <td>2014-04-01</td>\n",
       "      <td>4</td>\n",
       "      <td>40.7637,-73.96</td>\n",
       "    </tr>\n",
       "    <tr>\n",
       "      <th>3</th>\n",
       "      <td>2014-04-01 00:01:00</td>\n",
       "      <td>Uber</td>\n",
       "      <td>B02617</td>\n",
       "      <td>40.7355</td>\n",
       "      <td>-73.9966</td>\n",
       "      <td>NaN</td>\n",
       "      <td>1</td>\n",
       "      <td>Tuesday</td>\n",
       "      <td>1</td>\n",
       "      <td>0</td>\n",
       "      <td>2014-04-01</td>\n",
       "      <td>4</td>\n",
       "      <td>40.7355,-73.9966</td>\n",
       "    </tr>\n",
       "    <tr>\n",
       "      <th>4</th>\n",
       "      <td>2014-04-01 00:02:00</td>\n",
       "      <td>Uber</td>\n",
       "      <td>B02682</td>\n",
       "      <td>40.7184</td>\n",
       "      <td>-73.9601</td>\n",
       "      <td>NaN</td>\n",
       "      <td>1</td>\n",
       "      <td>Tuesday</td>\n",
       "      <td>1</td>\n",
       "      <td>0</td>\n",
       "      <td>2014-04-01</td>\n",
       "      <td>4</td>\n",
       "      <td>40.7184,-73.9601</td>\n",
       "    </tr>\n",
       "  </tbody>\n",
       "</table>\n",
       "</div>"
      ],
      "text/plain": [
       "            Date/Time Company    Base      Lat      Lon Pick_Address  \\\n",
       "0 2014-04-01 00:00:00    Uber  B02598  40.7188 -73.9863          NaN   \n",
       "1 2014-04-01 00:00:00    Uber  B02682  40.7215 -73.9952          NaN   \n",
       "2 2014-04-01 00:00:00    Uber  B02598  40.7637 -73.9600          NaN   \n",
       "3 2014-04-01 00:01:00    Uber  B02617  40.7355 -73.9966          NaN   \n",
       "4 2014-04-01 00:02:00    Uber  B02682  40.7184 -73.9601          NaN   \n",
       "\n",
       "   DayOfWeekNum DayOfWeek  MonthDayNum  HourOfDay   Only_Date  month  \\\n",
       "0             1   Tuesday            1          0  2014-04-01      4   \n",
       "1             1   Tuesday            1          0  2014-04-01      4   \n",
       "2             1   Tuesday            1          0  2014-04-01      4   \n",
       "3             1   Tuesday            1          0  2014-04-01      4   \n",
       "4             1   Tuesday            1          0  2014-04-01      4   \n",
       "\n",
       "         Cordinates  \n",
       "0  40.7188,-73.9863  \n",
       "1  40.7215,-73.9952  \n",
       "2    40.7637,-73.96  \n",
       "3  40.7355,-73.9966  \n",
       "4  40.7184,-73.9601  "
      ]
     },
     "execution_count": 93,
     "metadata": {},
     "output_type": "execute_result"
    }
   ],
   "source": [
    "df_all_2014.head()"
   ]
  },
  {
   "cell_type": "code",
   "execution_count": 94,
   "metadata": {},
   "outputs": [],
   "source": [
    "#Find out a way to bin/bucket the lat/longs or to localize the lat/long to an area name."
   ]
  },
  {
   "cell_type": "code",
   "execution_count": 95,
   "metadata": {},
   "outputs": [],
   "source": [
    "geolocator = Nominatim(user_agent=\"Cab_Data\")\n",
    "def get_location(x):\n",
    "    location = geolocator.reverse(x)\n",
    "    return location.address\n",
    "    \n",
    "    "
   ]
  },
  {
   "cell_type": "code",
   "execution_count": 96,
   "metadata": {},
   "outputs": [
    {
     "data": {
      "text/plain": [
       "'24, Spring Street, Little Italy, Manhattan Community Board 2, Manhattan, New York County, NYC, New York, 10012, USA'"
      ]
     },
     "execution_count": 96,
     "metadata": {},
     "output_type": "execute_result"
    }
   ],
   "source": [
    "get_location(df_all_2014.loc[1,'Cordinates'])"
   ]
  },
  {
   "cell_type": "code",
   "execution_count": null,
   "metadata": {},
   "outputs": [],
   "source": []
  },
  {
   "cell_type": "code",
   "execution_count": 97,
   "metadata": {},
   "outputs": [
    {
     "data": {
      "text/html": [
       "<div>\n",
       "<style scoped>\n",
       "    .dataframe tbody tr th:only-of-type {\n",
       "        vertical-align: middle;\n",
       "    }\n",
       "\n",
       "    .dataframe tbody tr th {\n",
       "        vertical-align: top;\n",
       "    }\n",
       "\n",
       "    .dataframe thead th {\n",
       "        text-align: right;\n",
       "    }\n",
       "</style>\n",
       "<table border=\"1\" class=\"dataframe\">\n",
       "  <thead>\n",
       "    <tr style=\"text-align: right;\">\n",
       "      <th></th>\n",
       "      <th>Date/Time</th>\n",
       "      <th>Company</th>\n",
       "      <th>Base</th>\n",
       "      <th>Lat</th>\n",
       "      <th>Lon</th>\n",
       "      <th>Pick_Address</th>\n",
       "      <th>DayOfWeekNum</th>\n",
       "      <th>DayOfWeek</th>\n",
       "      <th>MonthDayNum</th>\n",
       "      <th>HourOfDay</th>\n",
       "      <th>Only_Date</th>\n",
       "      <th>month</th>\n",
       "      <th>Cordinates</th>\n",
       "    </tr>\n",
       "  </thead>\n",
       "  <tbody>\n",
       "    <tr>\n",
       "      <th>0</th>\n",
       "      <td>2014-04-01 00:00:00</td>\n",
       "      <td>Uber</td>\n",
       "      <td>B02598</td>\n",
       "      <td>40.7188</td>\n",
       "      <td>-73.9863</td>\n",
       "      <td>NaN</td>\n",
       "      <td>1</td>\n",
       "      <td>Tuesday</td>\n",
       "      <td>1</td>\n",
       "      <td>0</td>\n",
       "      <td>2014-04-01</td>\n",
       "      <td>4</td>\n",
       "      <td>40.7188,-73.9863</td>\n",
       "    </tr>\n",
       "    <tr>\n",
       "      <th>1</th>\n",
       "      <td>2014-04-01 00:00:00</td>\n",
       "      <td>Uber</td>\n",
       "      <td>B02682</td>\n",
       "      <td>40.7215</td>\n",
       "      <td>-73.9952</td>\n",
       "      <td>NaN</td>\n",
       "      <td>1</td>\n",
       "      <td>Tuesday</td>\n",
       "      <td>1</td>\n",
       "      <td>0</td>\n",
       "      <td>2014-04-01</td>\n",
       "      <td>4</td>\n",
       "      <td>40.7215,-73.9952</td>\n",
       "    </tr>\n",
       "    <tr>\n",
       "      <th>2</th>\n",
       "      <td>2014-04-01 00:00:00</td>\n",
       "      <td>Uber</td>\n",
       "      <td>B02598</td>\n",
       "      <td>40.7637</td>\n",
       "      <td>-73.9600</td>\n",
       "      <td>NaN</td>\n",
       "      <td>1</td>\n",
       "      <td>Tuesday</td>\n",
       "      <td>1</td>\n",
       "      <td>0</td>\n",
       "      <td>2014-04-01</td>\n",
       "      <td>4</td>\n",
       "      <td>40.7637,-73.96</td>\n",
       "    </tr>\n",
       "    <tr>\n",
       "      <th>3</th>\n",
       "      <td>2014-04-01 00:01:00</td>\n",
       "      <td>Uber</td>\n",
       "      <td>B02617</td>\n",
       "      <td>40.7355</td>\n",
       "      <td>-73.9966</td>\n",
       "      <td>NaN</td>\n",
       "      <td>1</td>\n",
       "      <td>Tuesday</td>\n",
       "      <td>1</td>\n",
       "      <td>0</td>\n",
       "      <td>2014-04-01</td>\n",
       "      <td>4</td>\n",
       "      <td>40.7355,-73.9966</td>\n",
       "    </tr>\n",
       "    <tr>\n",
       "      <th>4</th>\n",
       "      <td>2014-04-01 00:02:00</td>\n",
       "      <td>Uber</td>\n",
       "      <td>B02682</td>\n",
       "      <td>40.7184</td>\n",
       "      <td>-73.9601</td>\n",
       "      <td>NaN</td>\n",
       "      <td>1</td>\n",
       "      <td>Tuesday</td>\n",
       "      <td>1</td>\n",
       "      <td>0</td>\n",
       "      <td>2014-04-01</td>\n",
       "      <td>4</td>\n",
       "      <td>40.7184,-73.9601</td>\n",
       "    </tr>\n",
       "  </tbody>\n",
       "</table>\n",
       "</div>"
      ],
      "text/plain": [
       "            Date/Time Company    Base      Lat      Lon Pick_Address  \\\n",
       "0 2014-04-01 00:00:00    Uber  B02598  40.7188 -73.9863          NaN   \n",
       "1 2014-04-01 00:00:00    Uber  B02682  40.7215 -73.9952          NaN   \n",
       "2 2014-04-01 00:00:00    Uber  B02598  40.7637 -73.9600          NaN   \n",
       "3 2014-04-01 00:01:00    Uber  B02617  40.7355 -73.9966          NaN   \n",
       "4 2014-04-01 00:02:00    Uber  B02682  40.7184 -73.9601          NaN   \n",
       "\n",
       "   DayOfWeekNum DayOfWeek  MonthDayNum  HourOfDay   Only_Date  month  \\\n",
       "0             1   Tuesday            1          0  2014-04-01      4   \n",
       "1             1   Tuesday            1          0  2014-04-01      4   \n",
       "2             1   Tuesday            1          0  2014-04-01      4   \n",
       "3             1   Tuesday            1          0  2014-04-01      4   \n",
       "4             1   Tuesday            1          0  2014-04-01      4   \n",
       "\n",
       "         Cordinates  \n",
       "0  40.7188,-73.9863  \n",
       "1  40.7215,-73.9952  \n",
       "2    40.7637,-73.96  \n",
       "3  40.7355,-73.9966  \n",
       "4  40.7184,-73.9601  "
      ]
     },
     "execution_count": 97,
     "metadata": {},
     "output_type": "execute_result"
    }
   ],
   "source": [
    "df_all_2014.head()"
   ]
  },
  {
   "cell_type": "code",
   "execution_count": 98,
   "metadata": {},
   "outputs": [],
   "source": [
    "df = pd.DataFrame()"
   ]
  },
  {
   "cell_type": "code",
   "execution_count": 99,
   "metadata": {},
   "outputs": [],
   "source": [
    "df['Count'] = df_all_2014.groupby('Date/Time')['Company'].count()"
   ]
  },
  {
   "cell_type": "code",
   "execution_count": 100,
   "metadata": {},
   "outputs": [
    {
     "data": {
      "text/html": [
       "<div>\n",
       "<style scoped>\n",
       "    .dataframe tbody tr th:only-of-type {\n",
       "        vertical-align: middle;\n",
       "    }\n",
       "\n",
       "    .dataframe tbody tr th {\n",
       "        vertical-align: top;\n",
       "    }\n",
       "\n",
       "    .dataframe thead th {\n",
       "        text-align: right;\n",
       "    }\n",
       "</style>\n",
       "<table border=\"1\" class=\"dataframe\">\n",
       "  <thead>\n",
       "    <tr style=\"text-align: right;\">\n",
       "      <th></th>\n",
       "      <th>Count</th>\n",
       "    </tr>\n",
       "    <tr>\n",
       "      <th>Date/Time</th>\n",
       "      <th></th>\n",
       "    </tr>\n",
       "  </thead>\n",
       "  <tbody>\n",
       "    <tr>\n",
       "      <th>2014-04-01 00:00:00</th>\n",
       "      <td>3</td>\n",
       "    </tr>\n",
       "    <tr>\n",
       "      <th>2014-04-01 00:01:00</th>\n",
       "      <td>1</td>\n",
       "    </tr>\n",
       "    <tr>\n",
       "      <th>2014-04-01 00:02:00</th>\n",
       "      <td>3</td>\n",
       "    </tr>\n",
       "    <tr>\n",
       "      <th>2014-04-01 00:03:00</th>\n",
       "      <td>2</td>\n",
       "    </tr>\n",
       "    <tr>\n",
       "      <th>2014-04-01 00:04:00</th>\n",
       "      <td>1</td>\n",
       "    </tr>\n",
       "  </tbody>\n",
       "</table>\n",
       "</div>"
      ],
      "text/plain": [
       "                     Count\n",
       "Date/Time                 \n",
       "2014-04-01 00:00:00      3\n",
       "2014-04-01 00:01:00      1\n",
       "2014-04-01 00:02:00      3\n",
       "2014-04-01 00:03:00      2\n",
       "2014-04-01 00:04:00      1"
      ]
     },
     "execution_count": 100,
     "metadata": {},
     "output_type": "execute_result"
    }
   ],
   "source": [
    "df.head()"
   ]
  },
  {
   "cell_type": "code",
   "execution_count": 101,
   "metadata": {},
   "outputs": [
    {
     "name": "stderr",
     "output_type": "stream",
     "text": [
      "/Users/shubh/anaconda3/lib/python3.7/site-packages/ipykernel_launcher.py:1: SettingWithCopyWarning: \n",
      "A value is trying to be set on a copy of a slice from a DataFrame.\n",
      "Try using .loc[row_indexer,col_indexer] = value instead\n",
      "\n",
      "See the caveats in the documentation: http://pandas.pydata.org/pandas-docs/stable/indexing.html#indexing-view-versus-copy\n",
      "  \"\"\"Entry point for launching an IPython kernel.\n"
     ]
    }
   ],
   "source": [
    "df_all_2014['Count'] = df_all_2014['Date/Time'].apply(lambda x : df.loc[x, 'Count'])"
   ]
  },
  {
   "cell_type": "code",
   "execution_count": 102,
   "metadata": {},
   "outputs": [
    {
     "data": {
      "text/html": [
       "<div>\n",
       "<style scoped>\n",
       "    .dataframe tbody tr th:only-of-type {\n",
       "        vertical-align: middle;\n",
       "    }\n",
       "\n",
       "    .dataframe tbody tr th {\n",
       "        vertical-align: top;\n",
       "    }\n",
       "\n",
       "    .dataframe thead th {\n",
       "        text-align: right;\n",
       "    }\n",
       "</style>\n",
       "<table border=\"1\" class=\"dataframe\">\n",
       "  <thead>\n",
       "    <tr style=\"text-align: right;\">\n",
       "      <th></th>\n",
       "      <th>Date/Time</th>\n",
       "      <th>Company</th>\n",
       "      <th>Base</th>\n",
       "      <th>Lat</th>\n",
       "      <th>Lon</th>\n",
       "      <th>Pick_Address</th>\n",
       "      <th>DayOfWeekNum</th>\n",
       "      <th>DayOfWeek</th>\n",
       "      <th>MonthDayNum</th>\n",
       "      <th>HourOfDay</th>\n",
       "      <th>Only_Date</th>\n",
       "      <th>month</th>\n",
       "      <th>Cordinates</th>\n",
       "      <th>Count</th>\n",
       "    </tr>\n",
       "  </thead>\n",
       "  <tbody>\n",
       "    <tr>\n",
       "      <th>0</th>\n",
       "      <td>2014-04-01 00:00:00</td>\n",
       "      <td>Uber</td>\n",
       "      <td>B02598</td>\n",
       "      <td>40.7188</td>\n",
       "      <td>-73.9863</td>\n",
       "      <td>NaN</td>\n",
       "      <td>1</td>\n",
       "      <td>Tuesday</td>\n",
       "      <td>1</td>\n",
       "      <td>0</td>\n",
       "      <td>2014-04-01</td>\n",
       "      <td>4</td>\n",
       "      <td>40.7188,-73.9863</td>\n",
       "      <td>3</td>\n",
       "    </tr>\n",
       "    <tr>\n",
       "      <th>1</th>\n",
       "      <td>2014-04-01 00:00:00</td>\n",
       "      <td>Uber</td>\n",
       "      <td>B02682</td>\n",
       "      <td>40.7215</td>\n",
       "      <td>-73.9952</td>\n",
       "      <td>NaN</td>\n",
       "      <td>1</td>\n",
       "      <td>Tuesday</td>\n",
       "      <td>1</td>\n",
       "      <td>0</td>\n",
       "      <td>2014-04-01</td>\n",
       "      <td>4</td>\n",
       "      <td>40.7215,-73.9952</td>\n",
       "      <td>3</td>\n",
       "    </tr>\n",
       "    <tr>\n",
       "      <th>2</th>\n",
       "      <td>2014-04-01 00:00:00</td>\n",
       "      <td>Uber</td>\n",
       "      <td>B02598</td>\n",
       "      <td>40.7637</td>\n",
       "      <td>-73.9600</td>\n",
       "      <td>NaN</td>\n",
       "      <td>1</td>\n",
       "      <td>Tuesday</td>\n",
       "      <td>1</td>\n",
       "      <td>0</td>\n",
       "      <td>2014-04-01</td>\n",
       "      <td>4</td>\n",
       "      <td>40.7637,-73.96</td>\n",
       "      <td>3</td>\n",
       "    </tr>\n",
       "    <tr>\n",
       "      <th>3</th>\n",
       "      <td>2014-04-01 00:01:00</td>\n",
       "      <td>Uber</td>\n",
       "      <td>B02617</td>\n",
       "      <td>40.7355</td>\n",
       "      <td>-73.9966</td>\n",
       "      <td>NaN</td>\n",
       "      <td>1</td>\n",
       "      <td>Tuesday</td>\n",
       "      <td>1</td>\n",
       "      <td>0</td>\n",
       "      <td>2014-04-01</td>\n",
       "      <td>4</td>\n",
       "      <td>40.7355,-73.9966</td>\n",
       "      <td>1</td>\n",
       "    </tr>\n",
       "    <tr>\n",
       "      <th>4</th>\n",
       "      <td>2014-04-01 00:02:00</td>\n",
       "      <td>Uber</td>\n",
       "      <td>B02682</td>\n",
       "      <td>40.7184</td>\n",
       "      <td>-73.9601</td>\n",
       "      <td>NaN</td>\n",
       "      <td>1</td>\n",
       "      <td>Tuesday</td>\n",
       "      <td>1</td>\n",
       "      <td>0</td>\n",
       "      <td>2014-04-01</td>\n",
       "      <td>4</td>\n",
       "      <td>40.7184,-73.9601</td>\n",
       "      <td>3</td>\n",
       "    </tr>\n",
       "  </tbody>\n",
       "</table>\n",
       "</div>"
      ],
      "text/plain": [
       "            Date/Time Company    Base      Lat      Lon Pick_Address  \\\n",
       "0 2014-04-01 00:00:00    Uber  B02598  40.7188 -73.9863          NaN   \n",
       "1 2014-04-01 00:00:00    Uber  B02682  40.7215 -73.9952          NaN   \n",
       "2 2014-04-01 00:00:00    Uber  B02598  40.7637 -73.9600          NaN   \n",
       "3 2014-04-01 00:01:00    Uber  B02617  40.7355 -73.9966          NaN   \n",
       "4 2014-04-01 00:02:00    Uber  B02682  40.7184 -73.9601          NaN   \n",
       "\n",
       "   DayOfWeekNum DayOfWeek  MonthDayNum  HourOfDay   Only_Date  month  \\\n",
       "0             1   Tuesday            1          0  2014-04-01      4   \n",
       "1             1   Tuesday            1          0  2014-04-01      4   \n",
       "2             1   Tuesday            1          0  2014-04-01      4   \n",
       "3             1   Tuesday            1          0  2014-04-01      4   \n",
       "4             1   Tuesday            1          0  2014-04-01      4   \n",
       "\n",
       "         Cordinates  Count  \n",
       "0  40.7188,-73.9863      3  \n",
       "1  40.7215,-73.9952      3  \n",
       "2    40.7637,-73.96      3  \n",
       "3  40.7355,-73.9966      1  \n",
       "4  40.7184,-73.9601      3  "
      ]
     },
     "execution_count": 102,
     "metadata": {},
     "output_type": "execute_result"
    }
   ],
   "source": [
    "df_all_2014.head()"
   ]
  },
  {
   "cell_type": "code",
   "execution_count": 103,
   "metadata": {},
   "outputs": [
    {
     "name": "stderr",
     "output_type": "stream",
     "text": [
      "/Users/shubh/anaconda3/lib/python3.7/site-packages/pandas/core/frame.py:3940: SettingWithCopyWarning: \n",
      "A value is trying to be set on a copy of a slice from a DataFrame\n",
      "\n",
      "See the caveats in the documentation: http://pandas.pydata.org/pandas-docs/stable/indexing.html#indexing-view-versus-copy\n",
      "  errors=errors)\n"
     ]
    }
   ],
   "source": [
    "df_all_2014.drop('Pick_Address', axis=1, inplace=True)"
   ]
  },
  {
   "cell_type": "code",
   "execution_count": 104,
   "metadata": {},
   "outputs": [],
   "source": [
    "df_all_2014.drop('Cordinates', axis=1, inplace=True)"
   ]
  },
  {
   "cell_type": "code",
   "execution_count": 106,
   "metadata": {},
   "outputs": [],
   "source": [
    "df_all_2014.drop('Base', axis=1, inplace=True)"
   ]
  },
  {
   "cell_type": "code",
   "execution_count": 117,
   "metadata": {},
   "outputs": [
    {
     "name": "stderr",
     "output_type": "stream",
     "text": [
      "/Users/shubh/anaconda3/lib/python3.7/site-packages/pandas/core/frame.py:3940: SettingWithCopyWarning: \n",
      "A value is trying to be set on a copy of a slice from a DataFrame\n",
      "\n",
      "See the caveats in the documentation: http://pandas.pydata.org/pandas-docs/stable/indexing.html#indexing-view-versus-copy\n",
      "  errors=errors)\n"
     ]
    }
   ],
   "source": [
    "df_all_2014.drop('Only_Date', axis=1, inplace=True)"
   ]
  },
  {
   "cell_type": "code",
   "execution_count": 107,
   "metadata": {},
   "outputs": [],
   "source": [
    "df_all_2014.set_index('Date/Time', inplace=True)"
   ]
  },
  {
   "cell_type": "code",
   "execution_count": 108,
   "metadata": {},
   "outputs": [
    {
     "name": "stderr",
     "output_type": "stream",
     "text": [
      "/Users/shubh/anaconda3/lib/python3.7/site-packages/ipykernel_launcher.py:1: SettingWithCopyWarning: \n",
      "A value is trying to be set on a copy of a slice from a DataFrame\n",
      "\n",
      "See the caveats in the documentation: http://pandas.pydata.org/pandas-docs/stable/indexing.html#indexing-view-versus-copy\n",
      "  \"\"\"Entry point for launching an IPython kernel.\n"
     ]
    }
   ],
   "source": [
    "df_all_2014.dropna(inplace=True)"
   ]
  },
  {
   "cell_type": "code",
   "execution_count": 118,
   "metadata": {},
   "outputs": [
    {
     "data": {
      "text/plain": [
       "(4802027, 9)"
      ]
     },
     "execution_count": 118,
     "metadata": {},
     "output_type": "execute_result"
    }
   ],
   "source": [
    "df_all_2014.shape"
   ]
  },
  {
   "cell_type": "code",
   "execution_count": 119,
   "metadata": {},
   "outputs": [],
   "source": [
    "X = df_all_2014.iloc[:, :-1].values\n",
    "y = df_all_2014.iloc[:, -1].values"
   ]
  },
  {
   "cell_type": "code",
   "execution_count": 120,
   "metadata": {},
   "outputs": [
    {
     "data": {
      "text/plain": [
       "array(['Tuesday', 'Tuesday', 'Tuesday', ..., 'Tuesday', 'Tuesday',\n",
       "       'Tuesday'], dtype=object)"
      ]
     },
     "execution_count": 120,
     "metadata": {},
     "output_type": "execute_result"
    }
   ],
   "source": [
    "X[:,4]"
   ]
  },
  {
   "cell_type": "code",
   "execution_count": 121,
   "metadata": {},
   "outputs": [],
   "source": [
    "labelencoder_X_1 = LabelEncoder()\n",
    "X[:, 0] = labelencoder_X_1.fit_transform(X[:, 0])\n",
    "labelencoder_X_2 = LabelEncoder()\n",
    "X[:, 4] = labelencoder_X_2.fit_transform(X[:, 4])"
   ]
  },
  {
   "cell_type": "code",
   "execution_count": 122,
   "metadata": {},
   "outputs": [],
   "source": [
    "x_train,x_test,y_train,y_test=train_test_split(X,y,test_size=0.25,random_state=42)"
   ]
  },
  {
   "cell_type": "code",
   "execution_count": 123,
   "metadata": {},
   "outputs": [
    {
     "name": "stderr",
     "output_type": "stream",
     "text": [
      "/Users/shubh/anaconda3/lib/python3.7/site-packages/sklearn/ensemble/forest.py:245: FutureWarning: The default value of n_estimators will change from 10 in version 0.20 to 100 in 0.22.\n",
      "  \"10 in version 0.20 to 100 in 0.22.\", FutureWarning)\n"
     ]
    },
    {
     "data": {
      "text/plain": [
       "{'Modelling Algo': ['RandomForestRegressor', 'BaggingRegressor'],\n",
       " 'RMSLE': [0.2996105962792389, 0.2994599982275631]}"
      ]
     },
     "execution_count": 123,
     "metadata": {},
     "output_type": "execute_result"
    }
   ],
   "source": [
    "models=[RandomForestRegressor(),BaggingRegressor()]\n",
    "model_names=['RandomForestRegressor','BaggingRegressor',]\n",
    "rmsle=[]\n",
    "d={}\n",
    "for model in range (len(models)):\n",
    "    clf=models[model]\n",
    "    clf.fit(x_train,y_train)\n",
    "    test_pred=clf.predict(x_test)\n",
    "    rmsle.append(np.sqrt(mean_squared_log_error(test_pred,y_test)))\n",
    "d={'Modelling Algo':model_names,'RMSLE':rmsle}   \n",
    "d\n",
    "    "
   ]
  },
  {
   "cell_type": "code",
   "execution_count": null,
   "metadata": {},
   "outputs": [],
   "source": []
  },
  {
   "cell_type": "code",
   "execution_count": null,
   "metadata": {},
   "outputs": [],
   "source": []
  }
 ],
 "metadata": {
  "kernelspec": {
   "display_name": "Python 3",
   "language": "python",
   "name": "python3"
  },
  "language_info": {
   "codemirror_mode": {
    "name": "ipython",
    "version": 3
   },
   "file_extension": ".py",
   "mimetype": "text/x-python",
   "name": "python",
   "nbconvert_exporter": "python",
   "pygments_lexer": "ipython3",
   "version": "3.7.3"
  }
 },
 "nbformat": 4,
 "nbformat_minor": 2
}
